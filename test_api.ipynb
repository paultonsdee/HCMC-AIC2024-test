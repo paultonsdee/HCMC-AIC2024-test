{
 "cells": [
  {
   "cell_type": "code",
   "execution_count": 3,
   "metadata": {},
   "outputs": [
    {
     "name": "stderr",
     "output_type": "stream",
     "text": [
      "/home/octoopt/anaconda3/envs/hcmc/lib/python3.10/site-packages/tqdm/auto.py:21: TqdmWarning: IProgress not found. Please update jupyter and ipywidgets. See https://ipywidgets.readthedocs.io/en/stable/user_install.html\n",
      "  from .autonotebook import tqdm as notebook_tqdm\n"
     ]
    }
   ],
   "source": [
    "from PIL import Image\n",
    "\n",
    "from transformers import CLIPModel, CLIPImageProcessor, CLIPTokenizer\n",
    "\n",
    "\n",
    "class ClipTool(): \n",
    "\n",
    "    SUPPORTED_MODELS = {\n",
    "    \"clipB32\": (\"openai/clip-vit-base-patch32\", 'clipB32'),\n",
    "    \"metaB16\": (\"facebook/metaclip-b16-fullcc2.5b\", 'metaB16'),\n",
    "    \"metaL14\": ('facebook/metaclip-l14-fullcc2.5b', 'metaL14'),\n",
    "    \"metaH14\": ('facebook/metaclip-h14-fullcc2.5b', 'metaH14')\n",
    "    }\n",
    "\n",
    "    def __init__(self, model_id:str=\"clipB32\", device:str=\"auto\") -> None:\n",
    "\n",
    "        self.model_name, self.bin_name = self.SUPPORTED_MODELS[model_id]\n",
    "        self.model = CLIPModel.from_pretrained(self.model_nam).to(device)\n",
    "        self.image_processor = CLIPImageProcessor.from_pretrained(self.model_nam)\n",
    "        self.text_processor = CLIPTokenizer.from_pretrained(self.model_nam)\n",
    "\n",
    "    def run(self, input_data: object, is_numpy: bool = True) -> object:\n",
    "        \"\"\"\n",
    "        Runs the BlipTool on the input data.\n",
    "\n",
    "        Args:\n",
    "            input_data (object): The input data to process. Can be a string or a PIL Image.\n",
    "            is_numpy (bool, optional): Whether the input data is a numpy array. Defaults to True.\n",
    "\n",
    "        Returns:\n",
    "            object: The extracted features.\n",
    "\n",
    "        Raises:\n",
    "            TypeError: If the input data is not a string or a PIL Image.\n",
    "        \"\"\"\n",
    "        if not isinstance(input_data, (str, Image)):\n",
    "            raise TypeError(\"Input data must be a string or a PIL Image.\")\n",
    "\n",
    "        if isinstance(input_data, str):\n",
    "            features = self._extract_text_features(input_data)\n",
    "        elif isinstance(input_data, Image):\n",
    "            features =  self._extract_by_image_features(input_data)\n",
    "\n",
    "        if is_numpy: \n",
    "            features = features.detach().cpu().numpy()\n",
    "\n",
    "        return features\n",
    "\n",
    "    def _extract_text_features(self, text: str) -> object:\n",
    "        \"\"\"\n",
    "        Extracts features from the given text.\n",
    "\n",
    "        Args:\n",
    "            text (str): The text to extract features from.\n",
    "\n",
    "        Returns:\n",
    "            object: The extracted features.\n",
    "        \"\"\"\n",
    "        text = self.text_processor([text], return_tensors=\"pt\").to(self.device)\n",
    "        result =  self.model.get_text_features(**text)\n",
    "        return result\n",
    "\n",
    "    def _extract_by_image_features(self, image: Image) -> object:\n",
    "        \"\"\"\n",
    "        Extracts features from the given image.\n",
    "\n",
    "        Args:\n",
    "            image (Image): The image to extract features from.\n",
    "\n",
    "        Returns:\n",
    "            object: The extracted features.\n",
    "        \"\"\"\n",
    "        image = self.image_processor(images=image, return_tensors=\"pt\").to(self.device)\n",
    "        features = self.model.extract_features(**image, mode=\"image\")\n",
    "        return features"
   ]
  },
  {
   "cell_type": "code",
   "execution_count": 4,
   "metadata": {},
   "outputs": [
    {
     "ename": "KeyError",
     "evalue": "'openai/clip-vit-base-patch32'",
     "output_type": "error",
     "traceback": [
      "\u001b[0;31m---------------------------------------------------------------------------\u001b[0m",
      "\u001b[0;31mKeyError\u001b[0m                                  Traceback (most recent call last)",
      "Cell \u001b[0;32mIn[4], line 1\u001b[0m\n\u001b[0;32m----> 1\u001b[0m clip_model \u001b[38;5;241m=\u001b[39m \u001b[43mClipTool\u001b[49m\u001b[43m(\u001b[49m\u001b[43m)\u001b[49m\n",
      "Cell \u001b[0;32mIn[3], line 17\u001b[0m, in \u001b[0;36mClipTool.__init__\u001b[0;34m(self, model_id, device)\u001b[0m\n\u001b[1;32m     15\u001b[0m \u001b[38;5;28;01mdef\u001b[39;00m \u001b[38;5;21m__init__\u001b[39m(\u001b[38;5;28mself\u001b[39m, model_id:\u001b[38;5;28mstr\u001b[39m\u001b[38;5;241m=\u001b[39m\u001b[38;5;124m\"\u001b[39m\u001b[38;5;124mopenai/clip-vit-base-patch32\u001b[39m\u001b[38;5;124m\"\u001b[39m, device:\u001b[38;5;28mstr\u001b[39m\u001b[38;5;241m=\u001b[39m\u001b[38;5;124m\"\u001b[39m\u001b[38;5;124mauto\u001b[39m\u001b[38;5;124m\"\u001b[39m) \u001b[38;5;241m-\u001b[39m\u001b[38;5;241m>\u001b[39m \u001b[38;5;28;01mNone\u001b[39;00m:\n\u001b[0;32m---> 17\u001b[0m     \u001b[38;5;28mself\u001b[39m\u001b[38;5;241m.\u001b[39mmodel_name, \u001b[38;5;28mself\u001b[39m\u001b[38;5;241m.\u001b[39mbin_name \u001b[38;5;241m=\u001b[39m \u001b[38;5;28;43mself\u001b[39;49m\u001b[38;5;241;43m.\u001b[39;49m\u001b[43mSUPPORTED_MODELS\u001b[49m\u001b[43m[\u001b[49m\u001b[43mmodel_id\u001b[49m\u001b[43m]\u001b[49m\n\u001b[1;32m     18\u001b[0m     \u001b[38;5;28mself\u001b[39m\u001b[38;5;241m.\u001b[39mmodel \u001b[38;5;241m=\u001b[39m CLIPModel\u001b[38;5;241m.\u001b[39mfrom_pretrained(\u001b[38;5;28mself\u001b[39m\u001b[38;5;241m.\u001b[39mmodel_nam)\u001b[38;5;241m.\u001b[39mto(device)\n\u001b[1;32m     19\u001b[0m     \u001b[38;5;28mself\u001b[39m\u001b[38;5;241m.\u001b[39mimage_processor \u001b[38;5;241m=\u001b[39m CLIPImageProcessor\u001b[38;5;241m.\u001b[39mfrom_pretrained(\u001b[38;5;28mself\u001b[39m\u001b[38;5;241m.\u001b[39mmodel_nam)\n",
      "\u001b[0;31mKeyError\u001b[0m: 'openai/clip-vit-base-patch32'"
     ]
    }
   ],
   "source": [
    "clip_model = ClipTool()"
   ]
  }
 ],
 "metadata": {
  "kernelspec": {
   "display_name": "hcmc",
   "language": "python",
   "name": "python3"
  },
  "language_info": {
   "codemirror_mode": {
    "name": "ipython",
    "version": 3
   },
   "file_extension": ".py",
   "mimetype": "text/x-python",
   "name": "python",
   "nbconvert_exporter": "python",
   "pygments_lexer": "ipython3",
   "version": "3.10.14"
  }
 },
 "nbformat": 4,
 "nbformat_minor": 2
}

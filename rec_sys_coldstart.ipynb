{
 "cells": [
  {
   "cell_type": "code",
   "execution_count": null,
   "metadata": {},
   "outputs": [],
   "source": [
    "import os\n",
    "import glob\n",
    "import json\n",
    "\n",
    "import torch\n",
    "\n",
    "from sklearn.metrics import silhouette_score\n",
    "from scipy.spatial.distance import cdist\n",
    "\n",
    "\n",
    "DEVICE = 'cuda' if torch.cuda.is_available() else 'cpu'"
   ]
  },
  {
   "cell_type": "code",
   "execution_count": null,
   "metadata": {},
   "outputs": [],
   "source": [
    "# ===== K-MEANS BASE =====\n",
    "@torch.jit.script\n",
    "def calculate_distances(data: torch.Tensor, centers: torch.Tensor) -> torch.Tensor:\n",
    "    return torch.cdist(data, centers)\n",
    "\n",
    "@torch.jit.script\n",
    "def assign_clusters(distances: torch.Tensor) -> torch.Tensor:\n",
    "    return torch.argmin(distances, dim=1)\n",
    "\n",
    "@torch.jit.script\n",
    "def calculate_sse(data: torch.Tensor, centers: torch.Tensor, cluster_labels: torch.Tensor) -> float:\n",
    "    sse = torch.sum(torch.stack([\n",
    "        torch.sum((data[cluster_labels == i] - centers[i]) ** 2)\n",
    "        for i in range(len(centers))\n",
    "    ]))\n",
    "    return sse.item()\n",
    "\n",
    "def initialize_kmeans_centers(data: torch.Tensor) -> tuple[torch.Tensor, torch.Tensor]:\n",
    "    # print(\"Initializing centers ...\", end=' - ')\n",
    "    n = len(data)\n",
    "    sqrt_n = int(torch.sqrt(torch.tensor(n)))\n",
    "    centers = []\n",
    "\n",
    "    while len(centers) < sqrt_n:\n",
    "        sse_min = float('inf')\n",
    "        new_center = None\n",
    "        final_labels = None\n",
    "\n",
    "        for i in range(n):\n",
    "            if any(torch.equal(data[i], center) for center in centers):\n",
    "                continue\n",
    "\n",
    "            temp_centers = torch.stack(centers + [data[i]])\n",
    "            distances = calculate_distances(data, temp_centers)\n",
    "            cluster_labels = assign_clusters(distances)\n",
    "            sse = calculate_sse(data, temp_centers, cluster_labels)\n",
    "\n",
    "            if sse < sse_min:\n",
    "                sse_min = sse\n",
    "                new_center = data[i]\n",
    "                final_labels = cluster_labels.clone()\n",
    "\n",
    "        centers.append(new_center)\n",
    "\n",
    "    return final_labels, torch.stack(centers)"
   ]
  }
 ],
 "metadata": {
  "kernelspec": {
   "display_name": "hcmc",
   "language": "python",
   "name": "python3"
  },
  "language_info": {
   "name": "python",
   "version": "3.10.14"
  }
 },
 "nbformat": 4,
 "nbformat_minor": 2
}

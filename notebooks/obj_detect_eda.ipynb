{
 "cells": [
  {
   "cell_type": "code",
   "execution_count": 1,
   "metadata": {},
   "outputs": [],
   "source": [
    "import os\n",
    "import json\n",
    "\n",
    "from glob import glob\n",
    "\n",
    "import pandas as pd\n",
    "import matplotlib.pyplot as plt\n",
    "\n",
    "from tqdm import tqdm"
   ]
  },
  {
   "cell_type": "code",
   "execution_count": 2,
   "metadata": {},
   "outputs": [],
   "source": [
    "def json_read(dir:str) -> dict:\n",
    "    with open(dir, \"r\") as f:\n",
    "        data = json.load(f)\n",
    "    return data"
   ]
  },
  {
   "cell_type": "code",
   "execution_count": 27,
   "metadata": {},
   "outputs": [],
   "source": [
    "dataset_dir = \"./db/objects\""
   ]
  },
  {
   "cell_type": "code",
   "execution_count": 28,
   "metadata": {},
   "outputs": [
    {
     "name": "stdout",
     "output_type": "stream",
     "text": [
      "Processing ./db/objects/L01_V001\n"
     ]
    },
    {
     "name": "stderr",
     "output_type": "stream",
     "text": [
      "Extracting detected objects ...: 100%|██████████| 272/272 [00:00<00:00, 2808.44it/s]\n"
     ]
    },
    {
     "name": "stdout",
     "output_type": "stream",
     "text": [
      "Processing ./db/objects/L01_V002\n"
     ]
    },
    {
     "name": "stderr",
     "output_type": "stream",
     "text": [
      "Extracting detected objects ...: 100%|██████████| 216/216 [00:00<00:00, 3340.68it/s]\n"
     ]
    },
    {
     "name": "stdout",
     "output_type": "stream",
     "text": [
      "Processing ./db/objects/L01_V003\n"
     ]
    },
    {
     "name": "stderr",
     "output_type": "stream",
     "text": [
      "Extracting detected objects ...: 100%|██████████| 281/281 [00:00<00:00, 2853.29it/s]\n"
     ]
    },
    {
     "name": "stdout",
     "output_type": "stream",
     "text": [
      "Processing ./db/objects/L01_V004\n"
     ]
    },
    {
     "name": "stderr",
     "output_type": "stream",
     "text": [
      "Extracting detected objects ...: 100%|██████████| 215/215 [00:00<00:00, 2032.70it/s]\n"
     ]
    },
    {
     "name": "stdout",
     "output_type": "stream",
     "text": [
      "Processing ./db/objects/L01_V005\n"
     ]
    },
    {
     "name": "stderr",
     "output_type": "stream",
     "text": [
      "Extracting detected objects ...: 100%|██████████| 264/264 [00:00<00:00, 3694.97it/s]\n"
     ]
    },
    {
     "name": "stdout",
     "output_type": "stream",
     "text": [
      "Processing ./db/objects/L01_V006\n"
     ]
    },
    {
     "name": "stderr",
     "output_type": "stream",
     "text": [
      "Extracting detected objects ...: 100%|██████████| 231/231 [00:00<00:00, 3358.16it/s]\n"
     ]
    },
    {
     "name": "stdout",
     "output_type": "stream",
     "text": [
      "Processing ./db/objects/L01_V007\n"
     ]
    },
    {
     "name": "stderr",
     "output_type": "stream",
     "text": [
      "Extracting detected objects ...: 100%|██████████| 243/243 [00:00<00:00, 3012.11it/s]\n"
     ]
    },
    {
     "name": "stdout",
     "output_type": "stream",
     "text": [
      "Processing ./db/objects/L01_V008\n"
     ]
    },
    {
     "name": "stderr",
     "output_type": "stream",
     "text": [
      "Extracting detected objects ...: 100%|██████████| 266/266 [00:00<00:00, 2019.77it/s]\n"
     ]
    },
    {
     "name": "stdout",
     "output_type": "stream",
     "text": [
      "Processing ./db/objects/L01_V009\n"
     ]
    },
    {
     "name": "stderr",
     "output_type": "stream",
     "text": [
      "Extracting detected objects ...: 100%|██████████| 257/257 [00:00<00:00, 2946.72it/s]\n"
     ]
    },
    {
     "name": "stdout",
     "output_type": "stream",
     "text": [
      "Processing ./db/objects/L01_V010\n"
     ]
    },
    {
     "name": "stderr",
     "output_type": "stream",
     "text": [
      "Extracting detected objects ...: 100%|██████████| 250/250 [00:00<00:00, 3214.10it/s]\n"
     ]
    },
    {
     "name": "stdout",
     "output_type": "stream",
     "text": [
      "Processing ./db/objects/L01_V011\n"
     ]
    },
    {
     "name": "stderr",
     "output_type": "stream",
     "text": [
      "Extracting detected objects ...: 100%|██████████| 265/265 [00:00<00:00, 3456.16it/s]\n"
     ]
    },
    {
     "name": "stdout",
     "output_type": "stream",
     "text": [
      "Processing ./db/objects/L01_V012\n"
     ]
    },
    {
     "name": "stderr",
     "output_type": "stream",
     "text": [
      "Extracting detected objects ...: 100%|██████████| 277/277 [00:00<00:00, 3269.40it/s]\n"
     ]
    },
    {
     "name": "stdout",
     "output_type": "stream",
     "text": [
      "Processing ./db/objects/L01_V013\n"
     ]
    },
    {
     "name": "stderr",
     "output_type": "stream",
     "text": [
      "Extracting detected objects ...: 100%|██████████| 278/278 [00:00<00:00, 2436.01it/s]\n"
     ]
    },
    {
     "name": "stdout",
     "output_type": "stream",
     "text": [
      "Processing ./db/objects/L01_V014\n"
     ]
    },
    {
     "name": "stderr",
     "output_type": "stream",
     "text": [
      "Extracting detected objects ...: 100%|██████████| 224/224 [00:00<00:00, 1817.26it/s]\n"
     ]
    },
    {
     "name": "stdout",
     "output_type": "stream",
     "text": [
      "Processing ./db/objects/L01_V015\n"
     ]
    },
    {
     "name": "stderr",
     "output_type": "stream",
     "text": [
      "Extracting detected objects ...: 100%|██████████| 264/264 [00:00<00:00, 2798.42it/s]\n"
     ]
    },
    {
     "name": "stdout",
     "output_type": "stream",
     "text": [
      "Processing ./db/objects/L01_V016\n"
     ]
    },
    {
     "name": "stderr",
     "output_type": "stream",
     "text": [
      "Extracting detected objects ...: 100%|██████████| 219/219 [00:00<00:00, 3909.35it/s]\n"
     ]
    },
    {
     "name": "stdout",
     "output_type": "stream",
     "text": [
      "Processing ./db/objects/L01_V017\n"
     ]
    },
    {
     "name": "stderr",
     "output_type": "stream",
     "text": [
      "Extracting detected objects ...: 100%|██████████| 273/273 [00:00<00:00, 3130.68it/s]\n"
     ]
    },
    {
     "name": "stdout",
     "output_type": "stream",
     "text": [
      "Processing ./db/objects/L01_V018\n"
     ]
    },
    {
     "name": "stderr",
     "output_type": "stream",
     "text": [
      "Extracting detected objects ...: 100%|██████████| 264/264 [00:00<00:00, 3200.08it/s]\n"
     ]
    },
    {
     "name": "stdout",
     "output_type": "stream",
     "text": [
      "Processing ./db/objects/L01_V019\n"
     ]
    },
    {
     "name": "stderr",
     "output_type": "stream",
     "text": [
      "Extracting detected objects ...: 100%|██████████| 268/268 [00:00<00:00, 3200.70it/s]\n"
     ]
    },
    {
     "name": "stdout",
     "output_type": "stream",
     "text": [
      "Processing ./db/objects/L01_V020\n"
     ]
    },
    {
     "name": "stderr",
     "output_type": "stream",
     "text": [
      "Extracting detected objects ...: 100%|██████████| 286/286 [00:00<00:00, 2693.61it/s]\n"
     ]
    },
    {
     "name": "stdout",
     "output_type": "stream",
     "text": [
      "Processing ./db/objects/L01_V021\n"
     ]
    },
    {
     "name": "stderr",
     "output_type": "stream",
     "text": [
      "Extracting detected objects ...: 100%|██████████| 266/266 [00:00<00:00, 2838.11it/s]\n"
     ]
    },
    {
     "name": "stdout",
     "output_type": "stream",
     "text": [
      "Processing ./db/objects/L01_V022\n"
     ]
    },
    {
     "name": "stderr",
     "output_type": "stream",
     "text": [
      "Extracting detected objects ...: 100%|██████████| 300/300 [00:00<00:00, 3061.45it/s]\n"
     ]
    },
    {
     "name": "stdout",
     "output_type": "stream",
     "text": [
      "Processing ./db/objects/L01_V023\n"
     ]
    },
    {
     "name": "stderr",
     "output_type": "stream",
     "text": [
      "Extracting detected objects ...: 100%|██████████| 266/266 [00:00<00:00, 3272.22it/s]\n"
     ]
    },
    {
     "name": "stdout",
     "output_type": "stream",
     "text": [
      "Processing ./db/objects/L01_V024\n"
     ]
    },
    {
     "name": "stderr",
     "output_type": "stream",
     "text": [
      "Extracting detected objects ...: 100%|██████████| 292/292 [00:00<00:00, 2973.60it/s]\n"
     ]
    },
    {
     "name": "stdout",
     "output_type": "stream",
     "text": [
      "Processing ./db/objects/L01_V025\n"
     ]
    },
    {
     "name": "stderr",
     "output_type": "stream",
     "text": [
      "Extracting detected objects ...: 100%|██████████| 213/213 [00:00<00:00, 3053.61it/s]\n"
     ]
    },
    {
     "name": "stdout",
     "output_type": "stream",
     "text": [
      "Processing ./db/objects/L01_V026\n"
     ]
    },
    {
     "name": "stderr",
     "output_type": "stream",
     "text": [
      "Extracting detected objects ...: 100%|██████████| 250/250 [00:00<00:00, 3108.72it/s]\n"
     ]
    },
    {
     "name": "stdout",
     "output_type": "stream",
     "text": [
      "Processing ./db/objects/L01_V027\n"
     ]
    },
    {
     "name": "stderr",
     "output_type": "stream",
     "text": [
      "Extracting detected objects ...: 100%|██████████| 269/269 [00:00<00:00, 3194.98it/s]\n"
     ]
    },
    {
     "name": "stdout",
     "output_type": "stream",
     "text": [
      "Processing ./db/objects/L01_V028\n"
     ]
    },
    {
     "name": "stderr",
     "output_type": "stream",
     "text": [
      "Extracting detected objects ...: 100%|██████████| 277/277 [00:00<00:00, 3319.25it/s]\n"
     ]
    },
    {
     "name": "stdout",
     "output_type": "stream",
     "text": [
      "Processing ./db/objects/L01_V029\n"
     ]
    },
    {
     "name": "stderr",
     "output_type": "stream",
     "text": [
      "Extracting detected objects ...: 100%|██████████| 239/239 [00:00<00:00, 3380.62it/s]\n"
     ]
    },
    {
     "name": "stdout",
     "output_type": "stream",
     "text": [
      "Processing ./db/objects/L01_V030\n"
     ]
    },
    {
     "name": "stderr",
     "output_type": "stream",
     "text": [
      "Extracting detected objects ...: 100%|██████████| 301/301 [00:00<00:00, 2540.16it/s]\n"
     ]
    },
    {
     "name": "stdout",
     "output_type": "stream",
     "text": [
      "Processing ./db/objects/L01_V031\n"
     ]
    },
    {
     "name": "stderr",
     "output_type": "stream",
     "text": [
      "Extracting detected objects ...: 100%|██████████| 329/329 [00:00<00:00, 3452.71it/s]\n"
     ]
    },
    {
     "name": "stdout",
     "output_type": "stream",
     "text": [
      "Processing ./db/objects/L02_V001\n"
     ]
    },
    {
     "name": "stderr",
     "output_type": "stream",
     "text": [
      "Extracting detected objects ...: 100%|██████████| 287/287 [00:00<00:00, 3638.67it/s]\n"
     ]
    },
    {
     "name": "stdout",
     "output_type": "stream",
     "text": [
      "Processing ./db/objects/L02_V002\n"
     ]
    },
    {
     "name": "stderr",
     "output_type": "stream",
     "text": [
      "Extracting detected objects ...: 100%|██████████| 270/270 [00:00<00:00, 3426.92it/s]\n"
     ]
    },
    {
     "name": "stdout",
     "output_type": "stream",
     "text": [
      "Processing ./db/objects/L02_V003\n"
     ]
    },
    {
     "name": "stderr",
     "output_type": "stream",
     "text": [
      "Extracting detected objects ...: 100%|██████████| 265/265 [00:00<00:00, 1715.61it/s]\n"
     ]
    },
    {
     "name": "stdout",
     "output_type": "stream",
     "text": [
      "Processing ./db/objects/L02_V004\n"
     ]
    },
    {
     "name": "stderr",
     "output_type": "stream",
     "text": [
      "Extracting detected objects ...: 100%|██████████| 304/304 [00:00<00:00, 3416.51it/s]\n"
     ]
    },
    {
     "name": "stdout",
     "output_type": "stream",
     "text": [
      "Processing ./db/objects/L02_V005\n"
     ]
    },
    {
     "name": "stderr",
     "output_type": "stream",
     "text": [
      "Extracting detected objects ...: 100%|██████████| 271/271 [00:00<00:00, 2894.35it/s]\n"
     ]
    },
    {
     "name": "stdout",
     "output_type": "stream",
     "text": [
      "Processing ./db/objects/L02_V006\n"
     ]
    },
    {
     "name": "stderr",
     "output_type": "stream",
     "text": [
      "Extracting detected objects ...: 100%|██████████| 230/230 [00:00<00:00, 2880.61it/s]\n"
     ]
    },
    {
     "name": "stdout",
     "output_type": "stream",
     "text": [
      "Processing ./db/objects/L02_V007\n"
     ]
    },
    {
     "name": "stderr",
     "output_type": "stream",
     "text": [
      "Extracting detected objects ...: 100%|██████████| 268/268 [00:00<00:00, 2790.82it/s]\n"
     ]
    },
    {
     "name": "stdout",
     "output_type": "stream",
     "text": [
      "Processing ./db/objects/L02_V008\n"
     ]
    },
    {
     "name": "stderr",
     "output_type": "stream",
     "text": [
      "Extracting detected objects ...: 100%|██████████| 256/256 [00:00<00:00, 2679.63it/s]\n"
     ]
    },
    {
     "name": "stdout",
     "output_type": "stream",
     "text": [
      "Processing ./db/objects/L02_V009\n"
     ]
    },
    {
     "name": "stderr",
     "output_type": "stream",
     "text": [
      "Extracting detected objects ...: 100%|██████████| 256/256 [00:00<00:00, 2974.32it/s]\n"
     ]
    },
    {
     "name": "stdout",
     "output_type": "stream",
     "text": [
      "Processing ./db/objects/L02_V010\n"
     ]
    },
    {
     "name": "stderr",
     "output_type": "stream",
     "text": [
      "Extracting detected objects ...: 100%|██████████| 314/314 [00:00<00:00, 3166.54it/s]\n"
     ]
    },
    {
     "name": "stdout",
     "output_type": "stream",
     "text": [
      "Processing ./db/objects/L02_V011\n"
     ]
    },
    {
     "name": "stderr",
     "output_type": "stream",
     "text": [
      "Extracting detected objects ...: 100%|██████████| 270/270 [00:00<00:00, 3170.91it/s]\n"
     ]
    },
    {
     "name": "stdout",
     "output_type": "stream",
     "text": [
      "Processing ./db/objects/L02_V012\n"
     ]
    },
    {
     "name": "stderr",
     "output_type": "stream",
     "text": [
      "Extracting detected objects ...: 100%|██████████| 264/264 [00:00<00:00, 3493.40it/s]\n"
     ]
    },
    {
     "name": "stdout",
     "output_type": "stream",
     "text": [
      "Processing ./db/objects/L02_V013\n"
     ]
    },
    {
     "name": "stderr",
     "output_type": "stream",
     "text": [
      "Extracting detected objects ...: 100%|██████████| 265/265 [00:00<00:00, 3151.92it/s]\n"
     ]
    },
    {
     "name": "stdout",
     "output_type": "stream",
     "text": [
      "Processing ./db/objects/L02_V014\n"
     ]
    },
    {
     "name": "stderr",
     "output_type": "stream",
     "text": [
      "Extracting detected objects ...: 100%|██████████| 281/281 [00:00<00:00, 2876.06it/s]\n"
     ]
    },
    {
     "name": "stdout",
     "output_type": "stream",
     "text": [
      "Processing ./db/objects/L02_V015\n"
     ]
    },
    {
     "name": "stderr",
     "output_type": "stream",
     "text": [
      "Extracting detected objects ...: 100%|██████████| 248/248 [00:00<00:00, 3200.06it/s]\n"
     ]
    },
    {
     "name": "stdout",
     "output_type": "stream",
     "text": [
      "Processing ./db/objects/L02_V016\n"
     ]
    },
    {
     "name": "stderr",
     "output_type": "stream",
     "text": [
      "Extracting detected objects ...: 100%|██████████| 262/262 [00:00<00:00, 2924.22it/s]\n"
     ]
    },
    {
     "name": "stdout",
     "output_type": "stream",
     "text": [
      "Processing ./db/objects/L02_V017\n"
     ]
    },
    {
     "name": "stderr",
     "output_type": "stream",
     "text": [
      "Extracting detected objects ...: 100%|██████████| 274/274 [00:00<00:00, 3152.00it/s]\n"
     ]
    },
    {
     "name": "stdout",
     "output_type": "stream",
     "text": [
      "Processing ./db/objects/L02_V018\n"
     ]
    },
    {
     "name": "stderr",
     "output_type": "stream",
     "text": [
      "Extracting detected objects ...: 100%|██████████| 244/244 [00:00<00:00, 4004.34it/s]\n"
     ]
    },
    {
     "name": "stdout",
     "output_type": "stream",
     "text": [
      "Processing ./db/objects/L02_V019\n"
     ]
    },
    {
     "name": "stderr",
     "output_type": "stream",
     "text": [
      "Extracting detected objects ...: 100%|██████████| 256/256 [00:00<00:00, 2877.25it/s]\n"
     ]
    },
    {
     "name": "stdout",
     "output_type": "stream",
     "text": [
      "Processing ./db/objects/L02_V020\n"
     ]
    },
    {
     "name": "stderr",
     "output_type": "stream",
     "text": [
      "Extracting detected objects ...: 100%|██████████| 220/220 [00:00<00:00, 2402.35it/s]\n"
     ]
    },
    {
     "name": "stdout",
     "output_type": "stream",
     "text": [
      "Processing ./db/objects/L02_V021\n"
     ]
    },
    {
     "name": "stderr",
     "output_type": "stream",
     "text": [
      "Extracting detected objects ...: 100%|██████████| 302/302 [00:00<00:00, 2763.26it/s]\n"
     ]
    },
    {
     "name": "stdout",
     "output_type": "stream",
     "text": [
      "Processing ./db/objects/L02_V022\n"
     ]
    },
    {
     "name": "stderr",
     "output_type": "stream",
     "text": [
      "Extracting detected objects ...: 100%|██████████| 277/277 [00:00<00:00, 3915.99it/s]\n"
     ]
    },
    {
     "name": "stdout",
     "output_type": "stream",
     "text": [
      "Processing ./db/objects/L02_V023\n"
     ]
    },
    {
     "name": "stderr",
     "output_type": "stream",
     "text": [
      "Extracting detected objects ...: 100%|██████████| 284/284 [00:00<00:00, 2867.36it/s]\n"
     ]
    },
    {
     "name": "stdout",
     "output_type": "stream",
     "text": [
      "Processing ./db/objects/L02_V024\n"
     ]
    },
    {
     "name": "stderr",
     "output_type": "stream",
     "text": [
      "Extracting detected objects ...: 100%|██████████| 256/256 [00:00<00:00, 2898.13it/s]\n"
     ]
    },
    {
     "name": "stdout",
     "output_type": "stream",
     "text": [
      "Processing ./db/objects/L02_V025\n"
     ]
    },
    {
     "name": "stderr",
     "output_type": "stream",
     "text": [
      "Extracting detected objects ...: 100%|██████████| 284/284 [00:00<00:00, 2569.03it/s]\n"
     ]
    },
    {
     "name": "stdout",
     "output_type": "stream",
     "text": [
      "Processing ./db/objects/L02_V026\n"
     ]
    },
    {
     "name": "stderr",
     "output_type": "stream",
     "text": [
      "Extracting detected objects ...: 100%|██████████| 324/324 [00:00<00:00, 2646.13it/s]\n"
     ]
    },
    {
     "name": "stdout",
     "output_type": "stream",
     "text": [
      "Processing ./db/objects/L02_V027\n"
     ]
    },
    {
     "name": "stderr",
     "output_type": "stream",
     "text": [
      "Extracting detected objects ...: 100%|██████████| 306/306 [00:00<00:00, 2318.42it/s]\n"
     ]
    },
    {
     "name": "stdout",
     "output_type": "stream",
     "text": [
      "Processing ./db/objects/L02_V028\n"
     ]
    },
    {
     "name": "stderr",
     "output_type": "stream",
     "text": [
      "Extracting detected objects ...: 100%|██████████| 265/265 [00:00<00:00, 2509.40it/s]\n"
     ]
    },
    {
     "name": "stdout",
     "output_type": "stream",
     "text": [
      "Processing ./db/objects/L02_V029\n"
     ]
    },
    {
     "name": "stderr",
     "output_type": "stream",
     "text": [
      "Extracting detected objects ...: 100%|██████████| 291/291 [00:00<00:00, 3069.73it/s]\n"
     ]
    },
    {
     "name": "stdout",
     "output_type": "stream",
     "text": [
      "Processing ./db/objects/L02_V030\n"
     ]
    },
    {
     "name": "stderr",
     "output_type": "stream",
     "text": [
      "Extracting detected objects ...: 100%|██████████| 276/276 [00:00<00:00, 3916.46it/s]\n"
     ]
    },
    {
     "name": "stdout",
     "output_type": "stream",
     "text": [
      "Processing ./db/objects/L02_V031\n"
     ]
    },
    {
     "name": "stderr",
     "output_type": "stream",
     "text": [
      "Extracting detected objects ...: 100%|██████████| 348/348 [00:00<00:00, 3694.10it/s]\n"
     ]
    },
    {
     "name": "stdout",
     "output_type": "stream",
     "text": [
      "Processing ./db/objects/L03_V001\n"
     ]
    },
    {
     "name": "stderr",
     "output_type": "stream",
     "text": [
      "Extracting detected objects ...: 100%|██████████| 258/258 [00:00<00:00, 3257.68it/s]\n"
     ]
    },
    {
     "name": "stdout",
     "output_type": "stream",
     "text": [
      "Processing ./db/objects/L03_V002\n"
     ]
    },
    {
     "name": "stderr",
     "output_type": "stream",
     "text": [
      "Extracting detected objects ...: 100%|██████████| 297/297 [00:00<00:00, 2092.52it/s]\n"
     ]
    },
    {
     "name": "stdout",
     "output_type": "stream",
     "text": [
      "Processing ./db/objects/L03_V003\n"
     ]
    },
    {
     "name": "stderr",
     "output_type": "stream",
     "text": [
      "Extracting detected objects ...: 100%|██████████| 248/248 [00:00<00:00, 3632.92it/s]\n"
     ]
    },
    {
     "name": "stdout",
     "output_type": "stream",
     "text": [
      "Processing ./db/objects/L03_V004\n"
     ]
    },
    {
     "name": "stderr",
     "output_type": "stream",
     "text": [
      "Extracting detected objects ...: 100%|██████████| 252/252 [00:00<00:00, 4168.19it/s]\n"
     ]
    },
    {
     "name": "stdout",
     "output_type": "stream",
     "text": [
      "Processing ./db/objects/L03_V005\n"
     ]
    },
    {
     "name": "stderr",
     "output_type": "stream",
     "text": [
      "Extracting detected objects ...: 100%|██████████| 260/260 [00:00<00:00, 3248.05it/s]\n"
     ]
    },
    {
     "name": "stdout",
     "output_type": "stream",
     "text": [
      "Processing ./db/objects/L03_V006\n"
     ]
    },
    {
     "name": "stderr",
     "output_type": "stream",
     "text": [
      "Extracting detected objects ...: 100%|██████████| 247/247 [00:00<00:00, 3325.40it/s]\n"
     ]
    },
    {
     "name": "stdout",
     "output_type": "stream",
     "text": [
      "Processing ./db/objects/L03_V007\n"
     ]
    },
    {
     "name": "stderr",
     "output_type": "stream",
     "text": [
      "Extracting detected objects ...: 100%|██████████| 248/248 [00:00<00:00, 3194.88it/s]\n"
     ]
    },
    {
     "name": "stdout",
     "output_type": "stream",
     "text": [
      "Processing ./db/objects/L03_V008\n"
     ]
    },
    {
     "name": "stderr",
     "output_type": "stream",
     "text": [
      "Extracting detected objects ...: 100%|██████████| 273/273 [00:00<00:00, 3399.04it/s]\n"
     ]
    },
    {
     "name": "stdout",
     "output_type": "stream",
     "text": [
      "Processing ./db/objects/L03_V009\n"
     ]
    },
    {
     "name": "stderr",
     "output_type": "stream",
     "text": [
      "Extracting detected objects ...: 100%|██████████| 313/313 [00:00<00:00, 3997.34it/s]\n"
     ]
    },
    {
     "name": "stdout",
     "output_type": "stream",
     "text": [
      "Processing ./db/objects/L03_V010\n"
     ]
    },
    {
     "name": "stderr",
     "output_type": "stream",
     "text": [
      "Extracting detected objects ...: 100%|██████████| 302/302 [00:00<00:00, 2857.52it/s]\n"
     ]
    },
    {
     "name": "stdout",
     "output_type": "stream",
     "text": [
      "Processing ./db/objects/L03_V011\n"
     ]
    },
    {
     "name": "stderr",
     "output_type": "stream",
     "text": [
      "Extracting detected objects ...: 100%|██████████| 247/247 [00:00<00:00, 3420.74it/s]\n"
     ]
    },
    {
     "name": "stdout",
     "output_type": "stream",
     "text": [
      "Processing ./db/objects/L03_V012\n"
     ]
    },
    {
     "name": "stderr",
     "output_type": "stream",
     "text": [
      "Extracting detected objects ...: 100%|██████████| 259/259 [00:00<00:00, 3556.50it/s]\n"
     ]
    },
    {
     "name": "stdout",
     "output_type": "stream",
     "text": [
      "Processing ./db/objects/L03_V013\n"
     ]
    },
    {
     "name": "stderr",
     "output_type": "stream",
     "text": [
      "Extracting detected objects ...: 100%|██████████| 231/231 [00:00<00:00, 4140.14it/s]\n"
     ]
    },
    {
     "name": "stdout",
     "output_type": "stream",
     "text": [
      "Processing ./db/objects/L03_V014\n"
     ]
    },
    {
     "name": "stderr",
     "output_type": "stream",
     "text": [
      "Extracting detected objects ...: 100%|██████████| 292/292 [00:00<00:00, 3103.00it/s]\n"
     ]
    },
    {
     "name": "stdout",
     "output_type": "stream",
     "text": [
      "Processing ./db/objects/L03_V015\n"
     ]
    },
    {
     "name": "stderr",
     "output_type": "stream",
     "text": [
      "Extracting detected objects ...: 100%|██████████| 303/303 [00:00<00:00, 2695.39it/s]\n"
     ]
    },
    {
     "name": "stdout",
     "output_type": "stream",
     "text": [
      "Processing ./db/objects/L03_V016\n"
     ]
    },
    {
     "name": "stderr",
     "output_type": "stream",
     "text": [
      "Extracting detected objects ...: 100%|██████████| 271/271 [00:00<00:00, 1992.80it/s]\n"
     ]
    },
    {
     "name": "stdout",
     "output_type": "stream",
     "text": [
      "Processing ./db/objects/L03_V017\n"
     ]
    },
    {
     "name": "stderr",
     "output_type": "stream",
     "text": [
      "Extracting detected objects ...: 100%|██████████| 251/251 [00:00<00:00, 3725.28it/s]\n"
     ]
    },
    {
     "name": "stdout",
     "output_type": "stream",
     "text": [
      "Processing ./db/objects/L03_V018\n"
     ]
    },
    {
     "name": "stderr",
     "output_type": "stream",
     "text": [
      "Extracting detected objects ...: 100%|██████████| 246/246 [00:00<00:00, 3079.93it/s]\n"
     ]
    },
    {
     "name": "stdout",
     "output_type": "stream",
     "text": [
      "Processing ./db/objects/L03_V019\n"
     ]
    },
    {
     "name": "stderr",
     "output_type": "stream",
     "text": [
      "Extracting detected objects ...: 100%|██████████| 256/256 [00:00<00:00, 2941.46it/s]\n"
     ]
    },
    {
     "name": "stdout",
     "output_type": "stream",
     "text": [
      "Processing ./db/objects/L03_V020\n"
     ]
    },
    {
     "name": "stderr",
     "output_type": "stream",
     "text": [
      "Extracting detected objects ...: 100%|██████████| 263/263 [00:00<00:00, 3826.02it/s]\n"
     ]
    },
    {
     "name": "stdout",
     "output_type": "stream",
     "text": [
      "Processing ./db/objects/L03_V021\n"
     ]
    },
    {
     "name": "stderr",
     "output_type": "stream",
     "text": [
      "Extracting detected objects ...: 100%|██████████| 259/259 [00:00<00:00, 3576.55it/s]\n"
     ]
    },
    {
     "name": "stdout",
     "output_type": "stream",
     "text": [
      "Processing ./db/objects/L03_V022\n"
     ]
    },
    {
     "name": "stderr",
     "output_type": "stream",
     "text": [
      "Extracting detected objects ...: 100%|██████████| 243/243 [00:00<00:00, 4392.58it/s]\n"
     ]
    },
    {
     "name": "stdout",
     "output_type": "stream",
     "text": [
      "Processing ./db/objects/L03_V023\n"
     ]
    },
    {
     "name": "stderr",
     "output_type": "stream",
     "text": [
      "Extracting detected objects ...: 100%|██████████| 297/297 [00:00<00:00, 3013.09it/s]\n"
     ]
    },
    {
     "name": "stdout",
     "output_type": "stream",
     "text": [
      "Processing ./db/objects/L03_V024\n"
     ]
    },
    {
     "name": "stderr",
     "output_type": "stream",
     "text": [
      "Extracting detected objects ...: 100%|██████████| 281/281 [00:00<00:00, 3418.83it/s]\n"
     ]
    },
    {
     "name": "stdout",
     "output_type": "stream",
     "text": [
      "Processing ./db/objects/L03_V025\n"
     ]
    },
    {
     "name": "stderr",
     "output_type": "stream",
     "text": [
      "Extracting detected objects ...: 100%|██████████| 292/292 [00:00<00:00, 3739.09it/s]\n"
     ]
    },
    {
     "name": "stdout",
     "output_type": "stream",
     "text": [
      "Processing ./db/objects/L03_V026\n"
     ]
    },
    {
     "name": "stderr",
     "output_type": "stream",
     "text": [
      "Extracting detected objects ...: 100%|██████████| 224/224 [00:00<00:00, 3455.43it/s]\n"
     ]
    },
    {
     "name": "stdout",
     "output_type": "stream",
     "text": [
      "Processing ./db/objects/L03_V027\n"
     ]
    },
    {
     "name": "stderr",
     "output_type": "stream",
     "text": [
      "Extracting detected objects ...: 100%|██████████| 260/260 [00:00<00:00, 4272.32it/s]\n"
     ]
    },
    {
     "name": "stdout",
     "output_type": "stream",
     "text": [
      "Processing ./db/objects/L03_V028\n"
     ]
    },
    {
     "name": "stderr",
     "output_type": "stream",
     "text": [
      "Extracting detected objects ...: 100%|██████████| 236/236 [00:00<00:00, 4125.55it/s]\n"
     ]
    },
    {
     "name": "stdout",
     "output_type": "stream",
     "text": [
      "Processing ./db/objects/L03_V029\n"
     ]
    },
    {
     "name": "stderr",
     "output_type": "stream",
     "text": [
      "Extracting detected objects ...: 100%|██████████| 389/389 [00:00<00:00, 3331.59it/s]\n"
     ]
    },
    {
     "name": "stdout",
     "output_type": "stream",
     "text": [
      "Processing ./db/objects/L03_V030\n"
     ]
    },
    {
     "name": "stderr",
     "output_type": "stream",
     "text": [
      "Extracting detected objects ...: 100%|██████████| 265/265 [00:00<00:00, 3555.26it/s]\n"
     ]
    },
    {
     "name": "stdout",
     "output_type": "stream",
     "text": [
      "Processing ./db/objects/L04_V001\n"
     ]
    },
    {
     "name": "stderr",
     "output_type": "stream",
     "text": [
      "Extracting detected objects ...: 100%|██████████| 306/306 [00:00<00:00, 2361.40it/s]\n"
     ]
    },
    {
     "name": "stdout",
     "output_type": "stream",
     "text": [
      "Processing ./db/objects/L04_V002\n"
     ]
    },
    {
     "name": "stderr",
     "output_type": "stream",
     "text": [
      "Extracting detected objects ...: 100%|██████████| 292/292 [00:00<00:00, 3367.31it/s]\n"
     ]
    },
    {
     "name": "stdout",
     "output_type": "stream",
     "text": [
      "Processing ./db/objects/L04_V003\n"
     ]
    },
    {
     "name": "stderr",
     "output_type": "stream",
     "text": [
      "Extracting detected objects ...: 100%|██████████| 250/250 [00:00<00:00, 3548.32it/s]\n"
     ]
    },
    {
     "name": "stdout",
     "output_type": "stream",
     "text": [
      "Processing ./db/objects/L04_V004\n"
     ]
    },
    {
     "name": "stderr",
     "output_type": "stream",
     "text": [
      "Extracting detected objects ...: 100%|██████████| 307/307 [00:00<00:00, 3336.26it/s]\n"
     ]
    },
    {
     "name": "stdout",
     "output_type": "stream",
     "text": [
      "Processing ./db/objects/L04_V005\n"
     ]
    },
    {
     "name": "stderr",
     "output_type": "stream",
     "text": [
      "Extracting detected objects ...: 100%|██████████| 306/306 [00:00<00:00, 3517.95it/s]\n"
     ]
    },
    {
     "name": "stdout",
     "output_type": "stream",
     "text": [
      "Processing ./db/objects/L04_V006\n"
     ]
    },
    {
     "name": "stderr",
     "output_type": "stream",
     "text": [
      "Extracting detected objects ...: 100%|██████████| 225/225 [00:00<00:00, 4078.30it/s]\n"
     ]
    },
    {
     "name": "stdout",
     "output_type": "stream",
     "text": [
      "Processing ./db/objects/L04_V007\n"
     ]
    },
    {
     "name": "stderr",
     "output_type": "stream",
     "text": [
      "Extracting detected objects ...: 100%|██████████| 277/277 [00:00<00:00, 4058.61it/s]\n"
     ]
    },
    {
     "name": "stdout",
     "output_type": "stream",
     "text": [
      "Processing ./db/objects/L04_V008\n"
     ]
    },
    {
     "name": "stderr",
     "output_type": "stream",
     "text": [
      "Extracting detected objects ...: 100%|██████████| 263/263 [00:00<00:00, 3758.98it/s]\n"
     ]
    },
    {
     "name": "stdout",
     "output_type": "stream",
     "text": [
      "Processing ./db/objects/L04_V009\n"
     ]
    },
    {
     "name": "stderr",
     "output_type": "stream",
     "text": [
      "Extracting detected objects ...: 100%|██████████| 245/245 [00:00<00:00, 3496.20it/s]\n"
     ]
    },
    {
     "name": "stdout",
     "output_type": "stream",
     "text": [
      "Processing ./db/objects/L04_V010\n"
     ]
    },
    {
     "name": "stderr",
     "output_type": "stream",
     "text": [
      "Extracting detected objects ...: 100%|██████████| 280/280 [00:00<00:00, 2930.22it/s]\n"
     ]
    },
    {
     "name": "stdout",
     "output_type": "stream",
     "text": [
      "Processing ./db/objects/L04_V011\n"
     ]
    },
    {
     "name": "stderr",
     "output_type": "stream",
     "text": [
      "Extracting detected objects ...: 100%|██████████| 258/258 [00:00<00:00, 3022.41it/s]\n"
     ]
    },
    {
     "name": "stdout",
     "output_type": "stream",
     "text": [
      "Processing ./db/objects/L04_V012\n"
     ]
    },
    {
     "name": "stderr",
     "output_type": "stream",
     "text": [
      "Extracting detected objects ...: 100%|██████████| 282/282 [00:00<00:00, 3591.81it/s]\n"
     ]
    },
    {
     "name": "stdout",
     "output_type": "stream",
     "text": [
      "Processing ./db/objects/L04_V013\n"
     ]
    },
    {
     "name": "stderr",
     "output_type": "stream",
     "text": [
      "Extracting detected objects ...: 100%|██████████| 297/297 [00:00<00:00, 3312.13it/s]\n"
     ]
    },
    {
     "name": "stdout",
     "output_type": "stream",
     "text": [
      "Processing ./db/objects/L04_V014\n"
     ]
    },
    {
     "name": "stderr",
     "output_type": "stream",
     "text": [
      "Extracting detected objects ...: 100%|██████████| 293/293 [00:00<00:00, 2196.61it/s]\n"
     ]
    },
    {
     "name": "stdout",
     "output_type": "stream",
     "text": [
      "Processing ./db/objects/L04_V015\n"
     ]
    },
    {
     "name": "stderr",
     "output_type": "stream",
     "text": [
      "Extracting detected objects ...: 100%|██████████| 267/267 [00:00<00:00, 3094.30it/s]\n"
     ]
    },
    {
     "name": "stdout",
     "output_type": "stream",
     "text": [
      "Processing ./db/objects/L04_V016\n"
     ]
    },
    {
     "name": "stderr",
     "output_type": "stream",
     "text": [
      "Extracting detected objects ...: 100%|██████████| 272/272 [00:00<00:00, 3627.77it/s]\n"
     ]
    },
    {
     "name": "stdout",
     "output_type": "stream",
     "text": [
      "Processing ./db/objects/L04_V017\n"
     ]
    },
    {
     "name": "stderr",
     "output_type": "stream",
     "text": [
      "Extracting detected objects ...: 100%|██████████| 262/262 [00:00<00:00, 4033.01it/s]\n"
     ]
    },
    {
     "name": "stdout",
     "output_type": "stream",
     "text": [
      "Processing ./db/objects/L04_V018\n"
     ]
    },
    {
     "name": "stderr",
     "output_type": "stream",
     "text": [
      "Extracting detected objects ...: 100%|██████████| 321/321 [00:00<00:00, 3769.68it/s]\n"
     ]
    },
    {
     "name": "stdout",
     "output_type": "stream",
     "text": [
      "Processing ./db/objects/L04_V019\n"
     ]
    },
    {
     "name": "stderr",
     "output_type": "stream",
     "text": [
      "Extracting detected objects ...: 100%|██████████| 284/284 [00:00<00:00, 3880.78it/s]\n"
     ]
    },
    {
     "name": "stdout",
     "output_type": "stream",
     "text": [
      "Processing ./db/objects/L04_V020\n"
     ]
    },
    {
     "name": "stderr",
     "output_type": "stream",
     "text": [
      "Extracting detected objects ...: 100%|██████████| 288/288 [00:00<00:00, 4030.91it/s]\n"
     ]
    },
    {
     "name": "stdout",
     "output_type": "stream",
     "text": [
      "Processing ./db/objects/L04_V021\n"
     ]
    },
    {
     "name": "stderr",
     "output_type": "stream",
     "text": [
      "Extracting detected objects ...: 100%|██████████| 251/251 [00:00<00:00, 3690.87it/s]\n"
     ]
    },
    {
     "name": "stdout",
     "output_type": "stream",
     "text": [
      "Processing ./db/objects/L04_V022\n"
     ]
    },
    {
     "name": "stderr",
     "output_type": "stream",
     "text": [
      "Extracting detected objects ...: 100%|██████████| 307/307 [00:00<00:00, 3602.03it/s]\n"
     ]
    },
    {
     "name": "stdout",
     "output_type": "stream",
     "text": [
      "Processing ./db/objects/L04_V023\n"
     ]
    },
    {
     "name": "stderr",
     "output_type": "stream",
     "text": [
      "Extracting detected objects ...: 100%|██████████| 297/297 [00:00<00:00, 3613.23it/s]\n"
     ]
    },
    {
     "name": "stdout",
     "output_type": "stream",
     "text": [
      "Processing ./db/objects/L04_V024\n"
     ]
    },
    {
     "name": "stderr",
     "output_type": "stream",
     "text": [
      "Extracting detected objects ...: 100%|██████████| 319/319 [00:00<00:00, 3590.70it/s]\n"
     ]
    },
    {
     "name": "stdout",
     "output_type": "stream",
     "text": [
      "Processing ./db/objects/L04_V025\n"
     ]
    },
    {
     "name": "stderr",
     "output_type": "stream",
     "text": [
      "Extracting detected objects ...: 100%|██████████| 291/291 [00:00<00:00, 3457.74it/s]\n"
     ]
    },
    {
     "name": "stdout",
     "output_type": "stream",
     "text": [
      "Processing ./db/objects/L04_V026\n"
     ]
    },
    {
     "name": "stderr",
     "output_type": "stream",
     "text": [
      "Extracting detected objects ...: 100%|██████████| 278/278 [00:00<00:00, 2601.79it/s]\n"
     ]
    },
    {
     "name": "stdout",
     "output_type": "stream",
     "text": [
      "Processing ./db/objects/L04_V027\n"
     ]
    },
    {
     "name": "stderr",
     "output_type": "stream",
     "text": [
      "Extracting detected objects ...: 100%|██████████| 266/266 [00:00<00:00, 3668.42it/s]\n"
     ]
    },
    {
     "name": "stdout",
     "output_type": "stream",
     "text": [
      "Processing ./db/objects/L04_V028\n"
     ]
    },
    {
     "name": "stderr",
     "output_type": "stream",
     "text": [
      "Extracting detected objects ...: 100%|██████████| 279/279 [00:00<00:00, 3698.69it/s]\n"
     ]
    },
    {
     "name": "stdout",
     "output_type": "stream",
     "text": [
      "Processing ./db/objects/L04_V029\n"
     ]
    },
    {
     "name": "stderr",
     "output_type": "stream",
     "text": [
      "Extracting detected objects ...: 100%|██████████| 272/272 [00:00<00:00, 4914.09it/s]\n"
     ]
    },
    {
     "name": "stdout",
     "output_type": "stream",
     "text": [
      "Processing ./db/objects/L04_V030\n"
     ]
    },
    {
     "name": "stderr",
     "output_type": "stream",
     "text": [
      "Extracting detected objects ...: 100%|██████████| 276/276 [00:00<00:00, 2523.03it/s]\n"
     ]
    },
    {
     "name": "stdout",
     "output_type": "stream",
     "text": [
      "Processing ./db/objects/L05_V001\n"
     ]
    },
    {
     "name": "stderr",
     "output_type": "stream",
     "text": [
      "Extracting detected objects ...: 100%|██████████| 282/282 [00:00<00:00, 3488.35it/s]\n"
     ]
    },
    {
     "name": "stdout",
     "output_type": "stream",
     "text": [
      "Processing ./db/objects/L05_V002\n"
     ]
    },
    {
     "name": "stderr",
     "output_type": "stream",
     "text": [
      "Extracting detected objects ...: 100%|██████████| 259/259 [00:00<00:00, 3438.72it/s]\n"
     ]
    },
    {
     "name": "stdout",
     "output_type": "stream",
     "text": [
      "Processing ./db/objects/L05_V003\n"
     ]
    },
    {
     "name": "stderr",
     "output_type": "stream",
     "text": [
      "Extracting detected objects ...: 100%|██████████| 254/254 [00:00<00:00, 3187.90it/s]\n"
     ]
    },
    {
     "name": "stdout",
     "output_type": "stream",
     "text": [
      "Processing ./db/objects/L05_V004\n"
     ]
    },
    {
     "name": "stderr",
     "output_type": "stream",
     "text": [
      "Extracting detected objects ...: 100%|██████████| 263/263 [00:00<00:00, 3681.77it/s]\n"
     ]
    },
    {
     "name": "stdout",
     "output_type": "stream",
     "text": [
      "Processing ./db/objects/L05_V005\n"
     ]
    },
    {
     "name": "stderr",
     "output_type": "stream",
     "text": [
      "Extracting detected objects ...: 100%|██████████| 247/247 [00:00<00:00, 3214.69it/s]\n"
     ]
    },
    {
     "name": "stdout",
     "output_type": "stream",
     "text": [
      "Processing ./db/objects/L05_V006\n"
     ]
    },
    {
     "name": "stderr",
     "output_type": "stream",
     "text": [
      "Extracting detected objects ...: 100%|██████████| 309/309 [00:00<00:00, 3325.32it/s]\n"
     ]
    },
    {
     "name": "stdout",
     "output_type": "stream",
     "text": [
      "Processing ./db/objects/L05_V007\n"
     ]
    },
    {
     "name": "stderr",
     "output_type": "stream",
     "text": [
      "Extracting detected objects ...: 100%|██████████| 237/237 [00:00<00:00, 3015.93it/s]\n"
     ]
    },
    {
     "name": "stdout",
     "output_type": "stream",
     "text": [
      "Processing ./db/objects/L05_V008\n"
     ]
    },
    {
     "name": "stderr",
     "output_type": "stream",
     "text": [
      "Extracting detected objects ...: 100%|██████████| 308/308 [00:00<00:00, 4557.11it/s]\n"
     ]
    },
    {
     "name": "stdout",
     "output_type": "stream",
     "text": [
      "Processing ./db/objects/L05_V009\n"
     ]
    },
    {
     "name": "stderr",
     "output_type": "stream",
     "text": [
      "Extracting detected objects ...: 100%|██████████| 253/253 [00:00<00:00, 3275.75it/s]\n"
     ]
    },
    {
     "name": "stdout",
     "output_type": "stream",
     "text": [
      "Processing ./db/objects/L05_V010\n"
     ]
    },
    {
     "name": "stderr",
     "output_type": "stream",
     "text": [
      "Extracting detected objects ...: 100%|██████████| 238/238 [00:00<00:00, 2969.33it/s]\n"
     ]
    },
    {
     "name": "stdout",
     "output_type": "stream",
     "text": [
      "Processing ./db/objects/L05_V011\n"
     ]
    },
    {
     "name": "stderr",
     "output_type": "stream",
     "text": [
      "Extracting detected objects ...: 100%|██████████| 282/282 [00:00<00:00, 3020.78it/s]\n"
     ]
    },
    {
     "name": "stdout",
     "output_type": "stream",
     "text": [
      "Processing ./db/objects/L05_V012\n"
     ]
    },
    {
     "name": "stderr",
     "output_type": "stream",
     "text": [
      "Extracting detected objects ...: 100%|██████████| 400/400 [00:00<00:00, 3650.46it/s]\n"
     ]
    },
    {
     "name": "stdout",
     "output_type": "stream",
     "text": [
      "Processing ./db/objects/L05_V013\n"
     ]
    },
    {
     "name": "stderr",
     "output_type": "stream",
     "text": [
      "Extracting detected objects ...: 100%|██████████| 312/312 [00:00<00:00, 3959.18it/s]\n"
     ]
    },
    {
     "name": "stdout",
     "output_type": "stream",
     "text": [
      "Processing ./db/objects/L05_V014\n"
     ]
    },
    {
     "name": "stderr",
     "output_type": "stream",
     "text": [
      "Extracting detected objects ...: 100%|██████████| 255/255 [00:00<00:00, 3411.45it/s]\n"
     ]
    },
    {
     "name": "stdout",
     "output_type": "stream",
     "text": [
      "Processing ./db/objects/L05_V015\n"
     ]
    },
    {
     "name": "stderr",
     "output_type": "stream",
     "text": [
      "Extracting detected objects ...: 100%|██████████| 292/292 [00:00<00:00, 3451.15it/s]\n"
     ]
    },
    {
     "name": "stdout",
     "output_type": "stream",
     "text": [
      "Processing ./db/objects/L05_V016\n"
     ]
    },
    {
     "name": "stderr",
     "output_type": "stream",
     "text": [
      "Extracting detected objects ...: 100%|██████████| 269/269 [00:00<00:00, 3819.43it/s]\n"
     ]
    },
    {
     "name": "stdout",
     "output_type": "stream",
     "text": [
      "Processing ./db/objects/L05_V017\n"
     ]
    },
    {
     "name": "stderr",
     "output_type": "stream",
     "text": [
      "Extracting detected objects ...: 100%|██████████| 272/272 [00:00<00:00, 4404.17it/s]\n"
     ]
    },
    {
     "name": "stdout",
     "output_type": "stream",
     "text": [
      "Processing ./db/objects/L05_V018\n"
     ]
    },
    {
     "name": "stderr",
     "output_type": "stream",
     "text": [
      "Extracting detected objects ...: 100%|██████████| 251/251 [00:00<00:00, 3617.61it/s]\n"
     ]
    },
    {
     "name": "stdout",
     "output_type": "stream",
     "text": [
      "Processing ./db/objects/L05_V019\n"
     ]
    },
    {
     "name": "stderr",
     "output_type": "stream",
     "text": [
      "Extracting detected objects ...: 100%|██████████| 267/267 [00:00<00:00, 3594.97it/s]\n"
     ]
    },
    {
     "name": "stdout",
     "output_type": "stream",
     "text": [
      "Processing ./db/objects/L05_V020\n"
     ]
    },
    {
     "name": "stderr",
     "output_type": "stream",
     "text": [
      "Extracting detected objects ...: 100%|██████████| 258/258 [00:00<00:00, 3566.10it/s]\n"
     ]
    },
    {
     "name": "stdout",
     "output_type": "stream",
     "text": [
      "Processing ./db/objects/L05_V021\n"
     ]
    },
    {
     "name": "stderr",
     "output_type": "stream",
     "text": [
      "Extracting detected objects ...: 100%|██████████| 214/214 [00:00<00:00, 3524.47it/s]\n"
     ]
    },
    {
     "name": "stdout",
     "output_type": "stream",
     "text": [
      "Processing ./db/objects/L05_V022\n"
     ]
    },
    {
     "name": "stderr",
     "output_type": "stream",
     "text": [
      "Extracting detected objects ...: 100%|██████████| 294/294 [00:00<00:00, 4490.30it/s]\n"
     ]
    },
    {
     "name": "stdout",
     "output_type": "stream",
     "text": [
      "Processing ./db/objects/L05_V023\n"
     ]
    },
    {
     "name": "stderr",
     "output_type": "stream",
     "text": [
      "Extracting detected objects ...: 100%|██████████| 287/287 [00:00<00:00, 4259.11it/s]\n"
     ]
    },
    {
     "name": "stdout",
     "output_type": "stream",
     "text": [
      "Processing ./db/objects/L05_V024\n"
     ]
    },
    {
     "name": "stderr",
     "output_type": "stream",
     "text": [
      "Extracting detected objects ...: 100%|██████████| 286/286 [00:00<00:00, 4151.89it/s]\n"
     ]
    },
    {
     "name": "stdout",
     "output_type": "stream",
     "text": [
      "Processing ./db/objects/L05_V025\n"
     ]
    },
    {
     "name": "stderr",
     "output_type": "stream",
     "text": [
      "Extracting detected objects ...: 100%|██████████| 235/235 [00:00<00:00, 2981.08it/s]\n"
     ]
    },
    {
     "name": "stdout",
     "output_type": "stream",
     "text": [
      "Processing ./db/objects/L05_V026\n"
     ]
    },
    {
     "name": "stderr",
     "output_type": "stream",
     "text": [
      "Extracting detected objects ...: 100%|██████████| 239/239 [00:00<00:00, 3082.65it/s]\n"
     ]
    },
    {
     "name": "stdout",
     "output_type": "stream",
     "text": [
      "Processing ./db/objects/L05_V027\n"
     ]
    },
    {
     "name": "stderr",
     "output_type": "stream",
     "text": [
      "Extracting detected objects ...: 100%|██████████| 258/258 [00:00<00:00, 3920.25it/s]\n"
     ]
    },
    {
     "name": "stdout",
     "output_type": "stream",
     "text": [
      "Processing ./db/objects/L05_V028\n"
     ]
    },
    {
     "name": "stderr",
     "output_type": "stream",
     "text": [
      "Extracting detected objects ...: 100%|██████████| 253/253 [00:00<00:00, 3518.76it/s]\n"
     ]
    },
    {
     "name": "stdout",
     "output_type": "stream",
     "text": [
      "Processing ./db/objects/L05_V029\n"
     ]
    },
    {
     "name": "stderr",
     "output_type": "stream",
     "text": [
      "Extracting detected objects ...: 100%|██████████| 255/255 [00:00<00:00, 2917.34it/s]\n"
     ]
    },
    {
     "name": "stdout",
     "output_type": "stream",
     "text": [
      "Processing ./db/objects/L05_V030\n"
     ]
    },
    {
     "name": "stderr",
     "output_type": "stream",
     "text": [
      "Extracting detected objects ...: 100%|██████████| 286/286 [00:00<00:00, 2320.68it/s]\n"
     ]
    },
    {
     "name": "stdout",
     "output_type": "stream",
     "text": [
      "Processing ./db/objects/L05_V031\n"
     ]
    },
    {
     "name": "stderr",
     "output_type": "stream",
     "text": [
      "Extracting detected objects ...: 100%|██████████| 327/327 [00:00<00:00, 4520.65it/s]\n"
     ]
    },
    {
     "name": "stdout",
     "output_type": "stream",
     "text": [
      "Processing ./db/objects/L06_V001\n"
     ]
    },
    {
     "name": "stderr",
     "output_type": "stream",
     "text": [
      "Extracting detected objects ...: 100%|██████████| 284/284 [00:00<00:00, 3816.83it/s]\n"
     ]
    },
    {
     "name": "stdout",
     "output_type": "stream",
     "text": [
      "Processing ./db/objects/L06_V002\n"
     ]
    },
    {
     "name": "stderr",
     "output_type": "stream",
     "text": [
      "Extracting detected objects ...: 100%|██████████| 266/266 [00:00<00:00, 3754.73it/s]\n"
     ]
    },
    {
     "name": "stdout",
     "output_type": "stream",
     "text": [
      "Processing ./db/objects/L06_V003\n"
     ]
    },
    {
     "name": "stderr",
     "output_type": "stream",
     "text": [
      "Extracting detected objects ...: 100%|██████████| 305/305 [00:00<00:00, 3122.83it/s]\n"
     ]
    },
    {
     "name": "stdout",
     "output_type": "stream",
     "text": [
      "Processing ./db/objects/L06_V004\n"
     ]
    },
    {
     "name": "stderr",
     "output_type": "stream",
     "text": [
      "Extracting detected objects ...: 100%|██████████| 313/313 [00:00<00:00, 4044.37it/s]\n"
     ]
    },
    {
     "name": "stdout",
     "output_type": "stream",
     "text": [
      "Processing ./db/objects/L06_V005\n"
     ]
    },
    {
     "name": "stderr",
     "output_type": "stream",
     "text": [
      "Extracting detected objects ...: 100%|██████████| 254/254 [00:00<00:00, 5273.71it/s]\n"
     ]
    },
    {
     "name": "stdout",
     "output_type": "stream",
     "text": [
      "Processing ./db/objects/L06_V006\n"
     ]
    },
    {
     "name": "stderr",
     "output_type": "stream",
     "text": [
      "Extracting detected objects ...: 100%|██████████| 279/279 [00:00<00:00, 4323.10it/s]\n"
     ]
    },
    {
     "name": "stdout",
     "output_type": "stream",
     "text": [
      "Processing ./db/objects/L06_V007\n"
     ]
    },
    {
     "name": "stderr",
     "output_type": "stream",
     "text": [
      "Extracting detected objects ...: 100%|██████████| 305/305 [00:00<00:00, 3911.66it/s]\n"
     ]
    },
    {
     "name": "stdout",
     "output_type": "stream",
     "text": [
      "Processing ./db/objects/L06_V008\n"
     ]
    },
    {
     "name": "stderr",
     "output_type": "stream",
     "text": [
      "Extracting detected objects ...: 100%|██████████| 299/299 [00:00<00:00, 3683.57it/s]\n"
     ]
    },
    {
     "name": "stdout",
     "output_type": "stream",
     "text": [
      "Processing ./db/objects/L06_V009\n"
     ]
    },
    {
     "name": "stderr",
     "output_type": "stream",
     "text": [
      "Extracting detected objects ...: 100%|██████████| 318/318 [00:00<00:00, 3520.65it/s]\n"
     ]
    },
    {
     "name": "stdout",
     "output_type": "stream",
     "text": [
      "Processing ./db/objects/L06_V010\n"
     ]
    },
    {
     "name": "stderr",
     "output_type": "stream",
     "text": [
      "Extracting detected objects ...: 100%|██████████| 297/297 [00:00<00:00, 3937.11it/s]\n"
     ]
    },
    {
     "name": "stdout",
     "output_type": "stream",
     "text": [
      "Processing ./db/objects/L06_V011\n"
     ]
    },
    {
     "name": "stderr",
     "output_type": "stream",
     "text": [
      "Extracting detected objects ...: 100%|██████████| 266/266 [00:00<00:00, 3944.80it/s]\n"
     ]
    },
    {
     "name": "stdout",
     "output_type": "stream",
     "text": [
      "Processing ./db/objects/L06_V012\n"
     ]
    },
    {
     "name": "stderr",
     "output_type": "stream",
     "text": [
      "Extracting detected objects ...: 100%|██████████| 303/303 [00:00<00:00, 4016.55it/s]\n"
     ]
    },
    {
     "name": "stdout",
     "output_type": "stream",
     "text": [
      "Processing ./db/objects/L06_V013\n"
     ]
    },
    {
     "name": "stderr",
     "output_type": "stream",
     "text": [
      "Extracting detected objects ...: 100%|██████████| 519/519 [00:00<00:00, 3519.52it/s]\n"
     ]
    },
    {
     "name": "stdout",
     "output_type": "stream",
     "text": [
      "Processing ./db/objects/L06_V014\n"
     ]
    },
    {
     "name": "stderr",
     "output_type": "stream",
     "text": [
      "Extracting detected objects ...: 100%|██████████| 276/276 [00:00<00:00, 3379.14it/s]\n"
     ]
    },
    {
     "name": "stdout",
     "output_type": "stream",
     "text": [
      "Processing ./db/objects/L06_V015\n"
     ]
    },
    {
     "name": "stderr",
     "output_type": "stream",
     "text": [
      "Extracting detected objects ...: 100%|██████████| 310/310 [00:00<00:00, 2582.25it/s]\n"
     ]
    },
    {
     "name": "stdout",
     "output_type": "stream",
     "text": [
      "Processing ./db/objects/L06_V016\n"
     ]
    },
    {
     "name": "stderr",
     "output_type": "stream",
     "text": [
      "Extracting detected objects ...: 100%|██████████| 284/284 [00:00<00:00, 2928.28it/s]\n"
     ]
    },
    {
     "name": "stdout",
     "output_type": "stream",
     "text": [
      "Processing ./db/objects/L06_V017\n"
     ]
    },
    {
     "name": "stderr",
     "output_type": "stream",
     "text": [
      "Extracting detected objects ...: 100%|██████████| 299/299 [00:00<00:00, 2573.17it/s]\n"
     ]
    },
    {
     "name": "stdout",
     "output_type": "stream",
     "text": [
      "Processing ./db/objects/L06_V018\n"
     ]
    },
    {
     "name": "stderr",
     "output_type": "stream",
     "text": [
      "Extracting detected objects ...: 100%|██████████| 265/265 [00:00<00:00, 3876.34it/s]\n"
     ]
    },
    {
     "name": "stdout",
     "output_type": "stream",
     "text": [
      "Processing ./db/objects/L06_V019\n"
     ]
    },
    {
     "name": "stderr",
     "output_type": "stream",
     "text": [
      "Extracting detected objects ...: 100%|██████████| 280/280 [00:00<00:00, 3461.61it/s]\n"
     ]
    },
    {
     "name": "stdout",
     "output_type": "stream",
     "text": [
      "Processing ./db/objects/L06_V020\n"
     ]
    },
    {
     "name": "stderr",
     "output_type": "stream",
     "text": [
      "Extracting detected objects ...: 100%|██████████| 435/435 [00:00<00:00, 2409.88it/s]\n"
     ]
    },
    {
     "name": "stdout",
     "output_type": "stream",
     "text": [
      "Processing ./db/objects/L06_V021\n"
     ]
    },
    {
     "name": "stderr",
     "output_type": "stream",
     "text": [
      "Extracting detected objects ...: 100%|██████████| 283/283 [00:00<00:00, 3234.14it/s]\n"
     ]
    },
    {
     "name": "stdout",
     "output_type": "stream",
     "text": [
      "Processing ./db/objects/L06_V022\n"
     ]
    },
    {
     "name": "stderr",
     "output_type": "stream",
     "text": [
      "Extracting detected objects ...: 100%|██████████| 315/315 [00:00<00:00, 3010.46it/s]\n"
     ]
    },
    {
     "name": "stdout",
     "output_type": "stream",
     "text": [
      "Processing ./db/objects/L06_V023\n"
     ]
    },
    {
     "name": "stderr",
     "output_type": "stream",
     "text": [
      "Extracting detected objects ...: 100%|██████████| 292/292 [00:00<00:00, 2937.34it/s]\n"
     ]
    },
    {
     "name": "stdout",
     "output_type": "stream",
     "text": [
      "Processing ./db/objects/L06_V024\n"
     ]
    },
    {
     "name": "stderr",
     "output_type": "stream",
     "text": [
      "Extracting detected objects ...: 100%|██████████| 277/277 [00:00<00:00, 3279.05it/s]\n"
     ]
    },
    {
     "name": "stdout",
     "output_type": "stream",
     "text": [
      "Processing ./db/objects/L06_V025\n"
     ]
    },
    {
     "name": "stderr",
     "output_type": "stream",
     "text": [
      "Extracting detected objects ...: 100%|██████████| 276/276 [00:00<00:00, 2417.84it/s]\n"
     ]
    },
    {
     "name": "stdout",
     "output_type": "stream",
     "text": [
      "Processing ./db/objects/L06_V026\n"
     ]
    },
    {
     "name": "stderr",
     "output_type": "stream",
     "text": [
      "Extracting detected objects ...: 100%|██████████| 276/276 [00:00<00:00, 3597.45it/s]\n"
     ]
    },
    {
     "name": "stdout",
     "output_type": "stream",
     "text": [
      "Processing ./db/objects/L06_V027\n"
     ]
    },
    {
     "name": "stderr",
     "output_type": "stream",
     "text": [
      "Extracting detected objects ...: 100%|██████████| 320/320 [00:00<00:00, 2939.75it/s]\n"
     ]
    },
    {
     "name": "stdout",
     "output_type": "stream",
     "text": [
      "Processing ./db/objects/L06_V028\n"
     ]
    },
    {
     "name": "stderr",
     "output_type": "stream",
     "text": [
      "Extracting detected objects ...: 100%|██████████| 340/340 [00:00<00:00, 3564.44it/s]\n"
     ]
    },
    {
     "name": "stdout",
     "output_type": "stream",
     "text": [
      "Processing ./db/objects/L06_V029\n"
     ]
    },
    {
     "name": "stderr",
     "output_type": "stream",
     "text": [
      "Extracting detected objects ...: 100%|██████████| 328/328 [00:00<00:00, 3709.00it/s]\n"
     ]
    },
    {
     "name": "stdout",
     "output_type": "stream",
     "text": [
      "Processing ./db/objects/L06_V030\n"
     ]
    },
    {
     "name": "stderr",
     "output_type": "stream",
     "text": [
      "Extracting detected objects ...: 100%|██████████| 325/325 [00:00<00:00, 2380.59it/s]\n"
     ]
    },
    {
     "name": "stdout",
     "output_type": "stream",
     "text": [
      "Processing ./db/objects/L06_V031\n"
     ]
    },
    {
     "name": "stderr",
     "output_type": "stream",
     "text": [
      "Extracting detected objects ...: 100%|██████████| 302/302 [00:00<00:00, 2529.01it/s]\n"
     ]
    },
    {
     "name": "stdout",
     "output_type": "stream",
     "text": [
      "Processing ./db/objects/L07_V001\n"
     ]
    },
    {
     "name": "stderr",
     "output_type": "stream",
     "text": [
      "Extracting detected objects ...: 100%|██████████| 249/249 [00:00<00:00, 2776.56it/s]\n"
     ]
    },
    {
     "name": "stdout",
     "output_type": "stream",
     "text": [
      "Processing ./db/objects/L07_V002\n"
     ]
    },
    {
     "name": "stderr",
     "output_type": "stream",
     "text": [
      "Extracting detected objects ...: 100%|██████████| 292/292 [00:00<00:00, 4439.06it/s]\n"
     ]
    },
    {
     "name": "stdout",
     "output_type": "stream",
     "text": [
      "Processing ./db/objects/L07_V003\n"
     ]
    },
    {
     "name": "stderr",
     "output_type": "stream",
     "text": [
      "Extracting detected objects ...: 100%|██████████| 274/274 [00:00<00:00, 3448.10it/s]\n"
     ]
    },
    {
     "name": "stdout",
     "output_type": "stream",
     "text": [
      "Processing ./db/objects/L07_V004\n"
     ]
    },
    {
     "name": "stderr",
     "output_type": "stream",
     "text": [
      "Extracting detected objects ...: 100%|██████████| 318/318 [00:00<00:00, 3470.81it/s]\n"
     ]
    },
    {
     "name": "stdout",
     "output_type": "stream",
     "text": [
      "Processing ./db/objects/L07_V005\n"
     ]
    },
    {
     "name": "stderr",
     "output_type": "stream",
     "text": [
      "Extracting detected objects ...: 100%|██████████| 273/273 [00:00<00:00, 2971.05it/s]\n"
     ]
    },
    {
     "name": "stdout",
     "output_type": "stream",
     "text": [
      "Processing ./db/objects/L07_V006\n"
     ]
    },
    {
     "name": "stderr",
     "output_type": "stream",
     "text": [
      "Extracting detected objects ...: 100%|██████████| 273/273 [00:00<00:00, 2313.77it/s]\n"
     ]
    },
    {
     "name": "stdout",
     "output_type": "stream",
     "text": [
      "Processing ./db/objects/L07_V007\n"
     ]
    },
    {
     "name": "stderr",
     "output_type": "stream",
     "text": [
      "Extracting detected objects ...: 100%|██████████| 234/234 [00:00<00:00, 2893.43it/s]\n"
     ]
    },
    {
     "name": "stdout",
     "output_type": "stream",
     "text": [
      "Processing ./db/objects/L07_V008\n"
     ]
    },
    {
     "name": "stderr",
     "output_type": "stream",
     "text": [
      "Extracting detected objects ...: 100%|██████████| 284/284 [00:00<00:00, 3054.18it/s]\n"
     ]
    },
    {
     "name": "stdout",
     "output_type": "stream",
     "text": [
      "Processing ./db/objects/L07_V009\n"
     ]
    },
    {
     "name": "stderr",
     "output_type": "stream",
     "text": [
      "Extracting detected objects ...: 100%|██████████| 276/276 [00:00<00:00, 1858.31it/s]\n"
     ]
    },
    {
     "name": "stdout",
     "output_type": "stream",
     "text": [
      "Processing ./db/objects/L07_V010\n"
     ]
    },
    {
     "name": "stderr",
     "output_type": "stream",
     "text": [
      "Extracting detected objects ...: 100%|██████████| 263/263 [00:00<00:00, 1318.11it/s]\n"
     ]
    },
    {
     "name": "stdout",
     "output_type": "stream",
     "text": [
      "Processing ./db/objects/L07_V011\n"
     ]
    },
    {
     "name": "stderr",
     "output_type": "stream",
     "text": [
      "Extracting detected objects ...: 100%|██████████| 307/307 [00:00<00:00, 2054.11it/s]\n"
     ]
    },
    {
     "name": "stdout",
     "output_type": "stream",
     "text": [
      "Processing ./db/objects/L07_V012\n"
     ]
    },
    {
     "name": "stderr",
     "output_type": "stream",
     "text": [
      "Extracting detected objects ...: 100%|██████████| 315/315 [00:00<00:00, 1083.92it/s]\n"
     ]
    },
    {
     "name": "stdout",
     "output_type": "stream",
     "text": [
      "Processing ./db/objects/L07_V013\n"
     ]
    },
    {
     "name": "stderr",
     "output_type": "stream",
     "text": [
      "Extracting detected objects ...: 100%|██████████| 253/253 [00:00<00:00, 2433.33it/s]\n"
     ]
    },
    {
     "name": "stdout",
     "output_type": "stream",
     "text": [
      "Processing ./db/objects/L07_V014\n"
     ]
    },
    {
     "name": "stderr",
     "output_type": "stream",
     "text": [
      "Extracting detected objects ...: 100%|██████████| 257/257 [00:00<00:00, 4156.65it/s]\n"
     ]
    },
    {
     "name": "stdout",
     "output_type": "stream",
     "text": [
      "Processing ./db/objects/L07_V015\n"
     ]
    },
    {
     "name": "stderr",
     "output_type": "stream",
     "text": [
      "Extracting detected objects ...: 100%|██████████| 220/220 [00:00<00:00, 2459.75it/s]\n"
     ]
    },
    {
     "name": "stdout",
     "output_type": "stream",
     "text": [
      "Processing ./db/objects/L07_V016\n"
     ]
    },
    {
     "name": "stderr",
     "output_type": "stream",
     "text": [
      "Extracting detected objects ...: 100%|██████████| 276/276 [00:00<00:00, 2159.09it/s]\n"
     ]
    },
    {
     "name": "stdout",
     "output_type": "stream",
     "text": [
      "Processing ./db/objects/L07_V017\n"
     ]
    },
    {
     "name": "stderr",
     "output_type": "stream",
     "text": [
      "Extracting detected objects ...: 100%|██████████| 251/251 [00:00<00:00, 3168.13it/s]\n"
     ]
    },
    {
     "name": "stdout",
     "output_type": "stream",
     "text": [
      "Processing ./db/objects/L07_V018\n"
     ]
    },
    {
     "name": "stderr",
     "output_type": "stream",
     "text": [
      "Extracting detected objects ...: 100%|██████████| 258/258 [00:00<00:00, 2399.03it/s]"
     ]
    },
    {
     "name": "stdout",
     "output_type": "stream",
     "text": [
      "Processing ./db/objects/L07_V019\n"
     ]
    },
    {
     "name": "stderr",
     "output_type": "stream",
     "text": [
      "\n",
      "Extracting detected objects ...: 100%|██████████| 272/272 [00:00<00:00, 3492.01it/s]\n"
     ]
    },
    {
     "name": "stdout",
     "output_type": "stream",
     "text": [
      "Processing ./db/objects/L07_V020\n"
     ]
    },
    {
     "name": "stderr",
     "output_type": "stream",
     "text": [
      "Extracting detected objects ...: 100%|██████████| 280/280 [00:00<00:00, 3559.66it/s]\n"
     ]
    },
    {
     "name": "stdout",
     "output_type": "stream",
     "text": [
      "Processing ./db/objects/L07_V021\n"
     ]
    },
    {
     "name": "stderr",
     "output_type": "stream",
     "text": [
      "Extracting detected objects ...: 100%|██████████| 246/246 [00:00<00:00, 3086.69it/s]\n"
     ]
    },
    {
     "name": "stdout",
     "output_type": "stream",
     "text": [
      "Processing ./db/objects/L07_V022\n"
     ]
    },
    {
     "name": "stderr",
     "output_type": "stream",
     "text": [
      "Extracting detected objects ...: 100%|██████████| 250/250 [00:00<00:00, 3525.88it/s]\n"
     ]
    },
    {
     "name": "stdout",
     "output_type": "stream",
     "text": [
      "Processing ./db/objects/L07_V023\n"
     ]
    },
    {
     "name": "stderr",
     "output_type": "stream",
     "text": [
      "Extracting detected objects ...: 100%|██████████| 285/285 [00:00<00:00, 2581.40it/s]\n"
     ]
    },
    {
     "name": "stdout",
     "output_type": "stream",
     "text": [
      "Processing ./db/objects/L07_V024\n"
     ]
    },
    {
     "name": "stderr",
     "output_type": "stream",
     "text": [
      "Extracting detected objects ...: 100%|██████████| 231/231 [00:00<00:00, 3107.38it/s]\n"
     ]
    },
    {
     "name": "stdout",
     "output_type": "stream",
     "text": [
      "Processing ./db/objects/L07_V025\n"
     ]
    },
    {
     "name": "stderr",
     "output_type": "stream",
     "text": [
      "Extracting detected objects ...: 100%|██████████| 280/280 [00:00<00:00, 3112.05it/s]\n"
     ]
    },
    {
     "name": "stdout",
     "output_type": "stream",
     "text": [
      "Processing ./db/objects/L07_V026\n"
     ]
    },
    {
     "name": "stderr",
     "output_type": "stream",
     "text": [
      "Extracting detected objects ...: 100%|██████████| 280/280 [00:00<00:00, 3456.66it/s]\n"
     ]
    },
    {
     "name": "stdout",
     "output_type": "stream",
     "text": [
      "Processing ./db/objects/L07_V027\n"
     ]
    },
    {
     "name": "stderr",
     "output_type": "stream",
     "text": [
      "Extracting detected objects ...: 100%|██████████| 258/258 [00:00<00:00, 3530.20it/s]\n"
     ]
    },
    {
     "name": "stdout",
     "output_type": "stream",
     "text": [
      "Processing ./db/objects/L07_V028\n"
     ]
    },
    {
     "name": "stderr",
     "output_type": "stream",
     "text": [
      "Extracting detected objects ...: 100%|██████████| 273/273 [00:00<00:00, 4013.94it/s]\n"
     ]
    },
    {
     "name": "stdout",
     "output_type": "stream",
     "text": [
      "Processing ./db/objects/L07_V029\n"
     ]
    },
    {
     "name": "stderr",
     "output_type": "stream",
     "text": [
      "Extracting detected objects ...: 100%|██████████| 261/261 [00:00<00:00, 3266.01it/s]\n"
     ]
    },
    {
     "name": "stdout",
     "output_type": "stream",
     "text": [
      "Processing ./db/objects/L07_V030\n"
     ]
    },
    {
     "name": "stderr",
     "output_type": "stream",
     "text": [
      "Extracting detected objects ...: 100%|██████████| 276/276 [00:00<00:00, 3227.62it/s]\n"
     ]
    },
    {
     "name": "stdout",
     "output_type": "stream",
     "text": [
      "Processing ./db/objects/L07_V031\n"
     ]
    },
    {
     "name": "stderr",
     "output_type": "stream",
     "text": [
      "Extracting detected objects ...: 100%|██████████| 287/287 [00:00<00:00, 2485.27it/s]\n"
     ]
    },
    {
     "name": "stdout",
     "output_type": "stream",
     "text": [
      "Processing ./db/objects/L08_V001\n"
     ]
    },
    {
     "name": "stderr",
     "output_type": "stream",
     "text": [
      "Extracting detected objects ...: 100%|██████████| 314/314 [00:00<00:00, 4086.79it/s]\n"
     ]
    },
    {
     "name": "stdout",
     "output_type": "stream",
     "text": [
      "Processing ./db/objects/L08_V002\n"
     ]
    },
    {
     "name": "stderr",
     "output_type": "stream",
     "text": [
      "Extracting detected objects ...: 100%|██████████| 269/269 [00:00<00:00, 2919.49it/s]\n"
     ]
    },
    {
     "name": "stdout",
     "output_type": "stream",
     "text": [
      "Processing ./db/objects/L08_V003\n"
     ]
    },
    {
     "name": "stderr",
     "output_type": "stream",
     "text": [
      "Extracting detected objects ...: 100%|██████████| 317/317 [00:00<00:00, 3962.95it/s]\n"
     ]
    },
    {
     "name": "stdout",
     "output_type": "stream",
     "text": [
      "Processing ./db/objects/L08_V004\n"
     ]
    },
    {
     "name": "stderr",
     "output_type": "stream",
     "text": [
      "Extracting detected objects ...: 100%|██████████| 306/306 [00:00<00:00, 2686.00it/s]\n"
     ]
    },
    {
     "name": "stdout",
     "output_type": "stream",
     "text": [
      "Processing ./db/objects/L08_V005\n"
     ]
    },
    {
     "name": "stderr",
     "output_type": "stream",
     "text": [
      "Extracting detected objects ...: 100%|██████████| 323/323 [00:00<00:00, 4217.35it/s]\n"
     ]
    },
    {
     "name": "stdout",
     "output_type": "stream",
     "text": [
      "Processing ./db/objects/L08_V006\n"
     ]
    },
    {
     "name": "stderr",
     "output_type": "stream",
     "text": [
      "Extracting detected objects ...: 100%|██████████| 282/282 [00:00<00:00, 3153.48it/s]\n"
     ]
    },
    {
     "name": "stdout",
     "output_type": "stream",
     "text": [
      "Processing ./db/objects/L08_V007\n"
     ]
    },
    {
     "name": "stderr",
     "output_type": "stream",
     "text": [
      "Extracting detected objects ...: 100%|██████████| 267/267 [00:00<00:00, 3869.16it/s]\n"
     ]
    },
    {
     "name": "stdout",
     "output_type": "stream",
     "text": [
      "Processing ./db/objects/L08_V008\n"
     ]
    },
    {
     "name": "stderr",
     "output_type": "stream",
     "text": [
      "Extracting detected objects ...: 100%|██████████| 312/312 [00:00<00:00, 2708.44it/s]\n"
     ]
    },
    {
     "name": "stdout",
     "output_type": "stream",
     "text": [
      "Processing ./db/objects/L08_V009\n"
     ]
    },
    {
     "name": "stderr",
     "output_type": "stream",
     "text": [
      "Extracting detected objects ...: 100%|██████████| 301/301 [00:00<00:00, 4267.36it/s]\n"
     ]
    },
    {
     "name": "stdout",
     "output_type": "stream",
     "text": [
      "Processing ./db/objects/L08_V010\n"
     ]
    },
    {
     "name": "stderr",
     "output_type": "stream",
     "text": [
      "Extracting detected objects ...: 100%|██████████| 276/276 [00:00<00:00, 3967.16it/s]\n"
     ]
    },
    {
     "name": "stdout",
     "output_type": "stream",
     "text": [
      "Processing ./db/objects/L08_V011\n"
     ]
    },
    {
     "name": "stderr",
     "output_type": "stream",
     "text": [
      "Extracting detected objects ...: 100%|██████████| 348/348 [00:00<00:00, 3627.21it/s]\n"
     ]
    },
    {
     "name": "stdout",
     "output_type": "stream",
     "text": [
      "Processing ./db/objects/L08_V012\n"
     ]
    },
    {
     "name": "stderr",
     "output_type": "stream",
     "text": [
      "Extracting detected objects ...: 100%|██████████| 309/309 [00:00<00:00, 3714.03it/s]\n"
     ]
    },
    {
     "name": "stdout",
     "output_type": "stream",
     "text": [
      "Processing ./db/objects/L08_V013\n"
     ]
    },
    {
     "name": "stderr",
     "output_type": "stream",
     "text": [
      "Extracting detected objects ...: 100%|██████████| 264/264 [00:00<00:00, 3957.31it/s]\n"
     ]
    },
    {
     "name": "stdout",
     "output_type": "stream",
     "text": [
      "Processing ./db/objects/L08_V014\n"
     ]
    },
    {
     "name": "stderr",
     "output_type": "stream",
     "text": [
      "Extracting detected objects ...: 100%|██████████| 279/279 [00:00<00:00, 3598.93it/s]\n"
     ]
    },
    {
     "name": "stdout",
     "output_type": "stream",
     "text": [
      "Processing ./db/objects/L08_V015\n"
     ]
    },
    {
     "name": "stderr",
     "output_type": "stream",
     "text": [
      "Extracting detected objects ...: 100%|██████████| 274/274 [00:00<00:00, 3067.31it/s]\n"
     ]
    },
    {
     "name": "stdout",
     "output_type": "stream",
     "text": [
      "Processing ./db/objects/L08_V016\n"
     ]
    },
    {
     "name": "stderr",
     "output_type": "stream",
     "text": [
      "Extracting detected objects ...: 100%|██████████| 304/304 [00:00<00:00, 3415.03it/s]\n"
     ]
    },
    {
     "name": "stdout",
     "output_type": "stream",
     "text": [
      "Processing ./db/objects/L08_V017\n"
     ]
    },
    {
     "name": "stderr",
     "output_type": "stream",
     "text": [
      "Extracting detected objects ...: 100%|██████████| 283/283 [00:00<00:00, 3670.09it/s]\n"
     ]
    },
    {
     "name": "stdout",
     "output_type": "stream",
     "text": [
      "Processing ./db/objects/L08_V018\n"
     ]
    },
    {
     "name": "stderr",
     "output_type": "stream",
     "text": [
      "Extracting detected objects ...: 100%|██████████| 315/315 [00:00<00:00, 3390.52it/s]\n"
     ]
    },
    {
     "name": "stdout",
     "output_type": "stream",
     "text": [
      "Processing ./db/objects/L08_V019\n"
     ]
    },
    {
     "name": "stderr",
     "output_type": "stream",
     "text": [
      "Extracting detected objects ...: 100%|██████████| 309/309 [00:00<00:00, 2643.29it/s]\n"
     ]
    },
    {
     "name": "stdout",
     "output_type": "stream",
     "text": [
      "Processing ./db/objects/L08_V020\n"
     ]
    },
    {
     "name": "stderr",
     "output_type": "stream",
     "text": [
      "Extracting detected objects ...: 100%|██████████| 316/316 [00:00<00:00, 2490.30it/s]\n"
     ]
    },
    {
     "name": "stdout",
     "output_type": "stream",
     "text": [
      "Processing ./db/objects/L08_V021\n"
     ]
    },
    {
     "name": "stderr",
     "output_type": "stream",
     "text": [
      "Extracting detected objects ...: 100%|██████████| 298/298 [00:00<00:00, 3769.18it/s]\n"
     ]
    },
    {
     "name": "stdout",
     "output_type": "stream",
     "text": [
      "Processing ./db/objects/L08_V022\n"
     ]
    },
    {
     "name": "stderr",
     "output_type": "stream",
     "text": [
      "Extracting detected objects ...: 100%|██████████| 301/301 [00:00<00:00, 3452.81it/s]\n"
     ]
    },
    {
     "name": "stdout",
     "output_type": "stream",
     "text": [
      "Processing ./db/objects/L08_V023\n"
     ]
    },
    {
     "name": "stderr",
     "output_type": "stream",
     "text": [
      "Extracting detected objects ...: 100%|██████████| 276/276 [00:00<00:00, 3534.02it/s]\n"
     ]
    },
    {
     "name": "stdout",
     "output_type": "stream",
     "text": [
      "Processing ./db/objects/L08_V024\n"
     ]
    },
    {
     "name": "stderr",
     "output_type": "stream",
     "text": [
      "Extracting detected objects ...: 100%|██████████| 307/307 [00:00<00:00, 3494.39it/s]\n"
     ]
    },
    {
     "name": "stdout",
     "output_type": "stream",
     "text": [
      "Processing ./db/objects/L08_V025\n"
     ]
    },
    {
     "name": "stderr",
     "output_type": "stream",
     "text": [
      "Extracting detected objects ...: 100%|██████████| 284/284 [00:00<00:00, 3504.56it/s]\n"
     ]
    },
    {
     "name": "stdout",
     "output_type": "stream",
     "text": [
      "Processing ./db/objects/L08_V026\n"
     ]
    },
    {
     "name": "stderr",
     "output_type": "stream",
     "text": [
      "Extracting detected objects ...: 100%|██████████| 292/292 [00:00<00:00, 4280.01it/s]\n"
     ]
    },
    {
     "name": "stdout",
     "output_type": "stream",
     "text": [
      "Processing ./db/objects/L08_V027\n"
     ]
    },
    {
     "name": "stderr",
     "output_type": "stream",
     "text": [
      "Extracting detected objects ...: 100%|██████████| 280/280 [00:00<00:00, 3652.63it/s]\n"
     ]
    },
    {
     "name": "stdout",
     "output_type": "stream",
     "text": [
      "Processing ./db/objects/L08_V028\n"
     ]
    },
    {
     "name": "stderr",
     "output_type": "stream",
     "text": [
      "Extracting detected objects ...: 100%|██████████| 326/326 [00:00<00:00, 3354.41it/s]\n"
     ]
    },
    {
     "name": "stdout",
     "output_type": "stream",
     "text": [
      "Processing ./db/objects/L08_V029\n"
     ]
    },
    {
     "name": "stderr",
     "output_type": "stream",
     "text": [
      "Extracting detected objects ...: 100%|██████████| 326/326 [00:00<00:00, 2827.09it/s]\n"
     ]
    },
    {
     "name": "stdout",
     "output_type": "stream",
     "text": [
      "Processing ./db/objects/L08_V030\n"
     ]
    },
    {
     "name": "stderr",
     "output_type": "stream",
     "text": [
      "Extracting detected objects ...: 100%|██████████| 283/283 [00:00<00:00, 3437.59it/s]\n"
     ]
    },
    {
     "name": "stdout",
     "output_type": "stream",
     "text": [
      "Processing ./db/objects/L09_V001\n"
     ]
    },
    {
     "name": "stderr",
     "output_type": "stream",
     "text": [
      "Extracting detected objects ...: 100%|██████████| 316/316 [00:00<00:00, 3771.16it/s]\n"
     ]
    },
    {
     "name": "stdout",
     "output_type": "stream",
     "text": [
      "Processing ./db/objects/L09_V002\n"
     ]
    },
    {
     "name": "stderr",
     "output_type": "stream",
     "text": [
      "Extracting detected objects ...: 100%|██████████| 317/317 [00:00<00:00, 4068.28it/s]\n"
     ]
    },
    {
     "name": "stdout",
     "output_type": "stream",
     "text": [
      "Processing ./db/objects/L09_V003\n"
     ]
    },
    {
     "name": "stderr",
     "output_type": "stream",
     "text": [
      "Extracting detected objects ...: 100%|██████████| 347/347 [00:00<00:00, 3737.64it/s]\n"
     ]
    },
    {
     "name": "stdout",
     "output_type": "stream",
     "text": [
      "Processing ./db/objects/L09_V004\n"
     ]
    },
    {
     "name": "stderr",
     "output_type": "stream",
     "text": [
      "Extracting detected objects ...: 100%|██████████| 321/321 [00:00<00:00, 3917.58it/s]\n"
     ]
    },
    {
     "name": "stdout",
     "output_type": "stream",
     "text": [
      "Processing ./db/objects/L09_V005\n"
     ]
    },
    {
     "name": "stderr",
     "output_type": "stream",
     "text": [
      "Extracting detected objects ...: 100%|██████████| 275/275 [00:00<00:00, 3414.67it/s]\n"
     ]
    },
    {
     "name": "stdout",
     "output_type": "stream",
     "text": [
      "Processing ./db/objects/L09_V006\n"
     ]
    },
    {
     "name": "stderr",
     "output_type": "stream",
     "text": [
      "Extracting detected objects ...: 100%|██████████| 356/356 [00:00<00:00, 3682.38it/s]\n"
     ]
    },
    {
     "name": "stdout",
     "output_type": "stream",
     "text": [
      "Processing ./db/objects/L09_V007\n"
     ]
    },
    {
     "name": "stderr",
     "output_type": "stream",
     "text": [
      "Extracting detected objects ...: 100%|██████████| 292/292 [00:00<00:00, 2551.84it/s]\n"
     ]
    },
    {
     "name": "stdout",
     "output_type": "stream",
     "text": [
      "Processing ./db/objects/L09_V008\n"
     ]
    },
    {
     "name": "stderr",
     "output_type": "stream",
     "text": [
      "Extracting detected objects ...: 100%|██████████| 331/331 [00:00<00:00, 2940.25it/s]\n"
     ]
    },
    {
     "name": "stdout",
     "output_type": "stream",
     "text": [
      "Processing ./db/objects/L09_V009\n"
     ]
    },
    {
     "name": "stderr",
     "output_type": "stream",
     "text": [
      "Extracting detected objects ...: 100%|██████████| 332/332 [00:00<00:00, 3086.12it/s]\n"
     ]
    },
    {
     "name": "stdout",
     "output_type": "stream",
     "text": [
      "Processing ./db/objects/L09_V010\n"
     ]
    },
    {
     "name": "stderr",
     "output_type": "stream",
     "text": [
      "Extracting detected objects ...: 100%|██████████| 315/315 [00:00<00:00, 2980.08it/s]\n"
     ]
    },
    {
     "name": "stdout",
     "output_type": "stream",
     "text": [
      "Processing ./db/objects/L09_V011\n"
     ]
    },
    {
     "name": "stderr",
     "output_type": "stream",
     "text": [
      "Extracting detected objects ...: 100%|██████████| 295/295 [00:00<00:00, 3363.70it/s]\n"
     ]
    },
    {
     "name": "stdout",
     "output_type": "stream",
     "text": [
      "Processing ./db/objects/L09_V012\n"
     ]
    },
    {
     "name": "stderr",
     "output_type": "stream",
     "text": [
      "Extracting detected objects ...: 100%|██████████| 272/272 [00:00<00:00, 3533.54it/s]\n"
     ]
    },
    {
     "name": "stdout",
     "output_type": "stream",
     "text": [
      "Processing ./db/objects/L09_V013\n"
     ]
    },
    {
     "name": "stderr",
     "output_type": "stream",
     "text": [
      "Extracting detected objects ...: 100%|██████████| 324/324 [00:00<00:00, 4669.10it/s]\n"
     ]
    },
    {
     "name": "stdout",
     "output_type": "stream",
     "text": [
      "Processing ./db/objects/L09_V014\n"
     ]
    },
    {
     "name": "stderr",
     "output_type": "stream",
     "text": [
      "Extracting detected objects ...: 100%|██████████| 341/341 [00:00<00:00, 3200.96it/s]\n"
     ]
    },
    {
     "name": "stdout",
     "output_type": "stream",
     "text": [
      "Processing ./db/objects/L09_V015\n"
     ]
    },
    {
     "name": "stderr",
     "output_type": "stream",
     "text": [
      "Extracting detected objects ...: 100%|██████████| 354/354 [00:00<00:00, 3554.55it/s]\n"
     ]
    },
    {
     "name": "stdout",
     "output_type": "stream",
     "text": [
      "Processing ./db/objects/L09_V016\n"
     ]
    },
    {
     "name": "stderr",
     "output_type": "stream",
     "text": [
      "Extracting detected objects ...: 100%|██████████| 328/328 [00:00<00:00, 2414.77it/s]\n"
     ]
    },
    {
     "name": "stdout",
     "output_type": "stream",
     "text": [
      "Processing ./db/objects/L09_V017\n"
     ]
    },
    {
     "name": "stderr",
     "output_type": "stream",
     "text": [
      "Extracting detected objects ...: 100%|██████████| 317/317 [00:00<00:00, 3841.12it/s]\n"
     ]
    },
    {
     "name": "stdout",
     "output_type": "stream",
     "text": [
      "Processing ./db/objects/L09_V018\n"
     ]
    },
    {
     "name": "stderr",
     "output_type": "stream",
     "text": [
      "Extracting detected objects ...: 100%|██████████| 333/333 [00:00<00:00, 3814.36it/s]\n"
     ]
    },
    {
     "name": "stdout",
     "output_type": "stream",
     "text": [
      "Processing ./db/objects/L09_V019\n"
     ]
    },
    {
     "name": "stderr",
     "output_type": "stream",
     "text": [
      "Extracting detected objects ...: 100%|██████████| 282/282 [00:00<00:00, 3879.02it/s]\n"
     ]
    },
    {
     "name": "stdout",
     "output_type": "stream",
     "text": [
      "Processing ./db/objects/L09_V020\n"
     ]
    },
    {
     "name": "stderr",
     "output_type": "stream",
     "text": [
      "Extracting detected objects ...: 100%|██████████| 470/470 [00:00<00:00, 4176.49it/s]\n"
     ]
    },
    {
     "name": "stdout",
     "output_type": "stream",
     "text": [
      "Processing ./db/objects/L09_V021\n"
     ]
    },
    {
     "name": "stderr",
     "output_type": "stream",
     "text": [
      "Extracting detected objects ...: 100%|██████████| 275/275 [00:00<00:00, 3520.77it/s]\n"
     ]
    },
    {
     "name": "stdout",
     "output_type": "stream",
     "text": [
      "Processing ./db/objects/L09_V022\n"
     ]
    },
    {
     "name": "stderr",
     "output_type": "stream",
     "text": [
      "Extracting detected objects ...: 100%|██████████| 496/496 [00:00<00:00, 2626.64it/s]\n"
     ]
    },
    {
     "name": "stdout",
     "output_type": "stream",
     "text": [
      "Processing ./db/objects/L09_V023\n"
     ]
    },
    {
     "name": "stderr",
     "output_type": "stream",
     "text": [
      "Extracting detected objects ...: 100%|██████████| 348/348 [00:00<00:00, 3189.70it/s]\n"
     ]
    },
    {
     "name": "stdout",
     "output_type": "stream",
     "text": [
      "Processing ./db/objects/L09_V024\n"
     ]
    },
    {
     "name": "stderr",
     "output_type": "stream",
     "text": [
      "Extracting detected objects ...: 100%|██████████| 305/305 [00:00<00:00, 3414.71it/s]\n"
     ]
    },
    {
     "name": "stdout",
     "output_type": "stream",
     "text": [
      "Processing ./db/objects/L09_V025\n"
     ]
    },
    {
     "name": "stderr",
     "output_type": "stream",
     "text": [
      "Extracting detected objects ...: 100%|██████████| 311/311 [00:00<00:00, 3687.86it/s]\n"
     ]
    },
    {
     "name": "stdout",
     "output_type": "stream",
     "text": [
      "Processing ./db/objects/L09_V026\n"
     ]
    },
    {
     "name": "stderr",
     "output_type": "stream",
     "text": [
      "Extracting detected objects ...: 100%|██████████| 302/302 [00:00<00:00, 3786.34it/s]\n"
     ]
    },
    {
     "name": "stdout",
     "output_type": "stream",
     "text": [
      "Processing ./db/objects/L09_V027\n"
     ]
    },
    {
     "name": "stderr",
     "output_type": "stream",
     "text": [
      "Extracting detected objects ...: 100%|██████████| 327/327 [00:00<00:00, 3805.12it/s]\n"
     ]
    },
    {
     "name": "stdout",
     "output_type": "stream",
     "text": [
      "Processing ./db/objects/L09_V028\n"
     ]
    },
    {
     "name": "stderr",
     "output_type": "stream",
     "text": [
      "Extracting detected objects ...: 100%|██████████| 374/374 [00:00<00:00, 3752.17it/s]\n"
     ]
    },
    {
     "name": "stdout",
     "output_type": "stream",
     "text": [
      "Processing ./db/objects/L09_V029\n"
     ]
    },
    {
     "name": "stderr",
     "output_type": "stream",
     "text": [
      "Extracting detected objects ...: 100%|██████████| 268/268 [00:00<00:00, 3737.01it/s]\n"
     ]
    },
    {
     "name": "stdout",
     "output_type": "stream",
     "text": [
      "Processing ./db/objects/L10_V001\n"
     ]
    },
    {
     "name": "stderr",
     "output_type": "stream",
     "text": [
      "Extracting detected objects ...: 100%|██████████| 340/340 [00:00<00:00, 2843.31it/s]\n"
     ]
    },
    {
     "name": "stdout",
     "output_type": "stream",
     "text": [
      "Processing ./db/objects/L10_V002\n"
     ]
    },
    {
     "name": "stderr",
     "output_type": "stream",
     "text": [
      "Extracting detected objects ...: 100%|██████████| 305/305 [00:00<00:00, 3581.88it/s]\n"
     ]
    },
    {
     "name": "stdout",
     "output_type": "stream",
     "text": [
      "Processing ./db/objects/L10_V003\n"
     ]
    },
    {
     "name": "stderr",
     "output_type": "stream",
     "text": [
      "Extracting detected objects ...: 100%|██████████| 456/456 [00:00<00:00, 4299.44it/s]\n"
     ]
    },
    {
     "name": "stdout",
     "output_type": "stream",
     "text": [
      "Processing ./db/objects/L10_V004\n"
     ]
    },
    {
     "name": "stderr",
     "output_type": "stream",
     "text": [
      "Extracting detected objects ...: 100%|██████████| 372/372 [00:00<00:00, 4071.86it/s]\n"
     ]
    },
    {
     "name": "stdout",
     "output_type": "stream",
     "text": [
      "Processing ./db/objects/L10_V005\n"
     ]
    },
    {
     "name": "stderr",
     "output_type": "stream",
     "text": [
      "Extracting detected objects ...: 100%|██████████| 480/480 [00:00<00:00, 3450.69it/s]\n"
     ]
    },
    {
     "name": "stdout",
     "output_type": "stream",
     "text": [
      "Processing ./db/objects/L10_V006\n"
     ]
    },
    {
     "name": "stderr",
     "output_type": "stream",
     "text": [
      "Extracting detected objects ...: 100%|██████████| 360/360 [00:00<00:00, 3419.75it/s]\n"
     ]
    },
    {
     "name": "stdout",
     "output_type": "stream",
     "text": [
      "Processing ./db/objects/L10_V007\n"
     ]
    },
    {
     "name": "stderr",
     "output_type": "stream",
     "text": [
      "Extracting detected objects ...: 100%|██████████| 357/357 [00:00<00:00, 2978.32it/s]\n"
     ]
    },
    {
     "name": "stdout",
     "output_type": "stream",
     "text": [
      "Processing ./db/objects/L10_V008\n"
     ]
    },
    {
     "name": "stderr",
     "output_type": "stream",
     "text": [
      "Extracting detected objects ...: 100%|██████████| 362/362 [00:00<00:00, 3058.61it/s]\n"
     ]
    },
    {
     "name": "stdout",
     "output_type": "stream",
     "text": [
      "Processing ./db/objects/L10_V009\n"
     ]
    },
    {
     "name": "stderr",
     "output_type": "stream",
     "text": [
      "Extracting detected objects ...: 100%|██████████| 355/355 [00:00<00:00, 3241.88it/s]\n"
     ]
    },
    {
     "name": "stdout",
     "output_type": "stream",
     "text": [
      "Processing ./db/objects/L10_V010\n"
     ]
    },
    {
     "name": "stderr",
     "output_type": "stream",
     "text": [
      "Extracting detected objects ...: 100%|██████████| 385/385 [00:00<00:00, 3532.92it/s]\n"
     ]
    },
    {
     "name": "stdout",
     "output_type": "stream",
     "text": [
      "Processing ./db/objects/L10_V011\n"
     ]
    },
    {
     "name": "stderr",
     "output_type": "stream",
     "text": [
      "Extracting detected objects ...: 100%|██████████| 448/448 [00:01<00:00, 243.97it/s]\n"
     ]
    },
    {
     "name": "stdout",
     "output_type": "stream",
     "text": [
      "Processing ./db/objects/L10_V012\n"
     ]
    },
    {
     "name": "stderr",
     "output_type": "stream",
     "text": [
      "Extracting detected objects ...: 100%|██████████| 439/439 [00:00<00:00, 4331.43it/s]\n"
     ]
    },
    {
     "name": "stdout",
     "output_type": "stream",
     "text": [
      "Processing ./db/objects/L10_V013\n"
     ]
    },
    {
     "name": "stderr",
     "output_type": "stream",
     "text": [
      "Extracting detected objects ...: 100%|██████████| 309/309 [00:00<00:00, 3675.46it/s]\n"
     ]
    },
    {
     "name": "stdout",
     "output_type": "stream",
     "text": [
      "Processing ./db/objects/L10_V014\n"
     ]
    },
    {
     "name": "stderr",
     "output_type": "stream",
     "text": [
      "Extracting detected objects ...: 100%|██████████| 347/347 [00:00<00:00, 3829.92it/s]\n"
     ]
    },
    {
     "name": "stdout",
     "output_type": "stream",
     "text": [
      "Processing ./db/objects/L10_V015\n"
     ]
    },
    {
     "name": "stderr",
     "output_type": "stream",
     "text": [
      "Extracting detected objects ...: 100%|██████████| 315/315 [00:00<00:00, 3523.63it/s]\n"
     ]
    },
    {
     "name": "stdout",
     "output_type": "stream",
     "text": [
      "Processing ./db/objects/L10_V016\n"
     ]
    },
    {
     "name": "stderr",
     "output_type": "stream",
     "text": [
      "Extracting detected objects ...: 100%|██████████| 329/329 [00:00<00:00, 3031.38it/s]\n"
     ]
    },
    {
     "name": "stdout",
     "output_type": "stream",
     "text": [
      "Processing ./db/objects/L10_V017\n"
     ]
    },
    {
     "name": "stderr",
     "output_type": "stream",
     "text": [
      "Extracting detected objects ...: 100%|██████████| 278/278 [00:00<00:00, 3231.81it/s]\n"
     ]
    },
    {
     "name": "stdout",
     "output_type": "stream",
     "text": [
      "Processing ./db/objects/L10_V018\n"
     ]
    },
    {
     "name": "stderr",
     "output_type": "stream",
     "text": [
      "Extracting detected objects ...: 100%|██████████| 263/263 [00:00<00:00, 3467.17it/s]\n"
     ]
    },
    {
     "name": "stdout",
     "output_type": "stream",
     "text": [
      "Processing ./db/objects/L10_V019\n"
     ]
    },
    {
     "name": "stderr",
     "output_type": "stream",
     "text": [
      "Extracting detected objects ...: 100%|██████████| 255/255 [00:00<00:00, 3224.62it/s]\n"
     ]
    },
    {
     "name": "stdout",
     "output_type": "stream",
     "text": [
      "Processing ./db/objects/L10_V020\n"
     ]
    },
    {
     "name": "stderr",
     "output_type": "stream",
     "text": [
      "Extracting detected objects ...: 100%|██████████| 304/304 [00:00<00:00, 4904.69it/s]\n"
     ]
    },
    {
     "name": "stdout",
     "output_type": "stream",
     "text": [
      "Processing ./db/objects/L10_V021\n"
     ]
    },
    {
     "name": "stderr",
     "output_type": "stream",
     "text": [
      "Extracting detected objects ...: 100%|██████████| 338/338 [00:00<00:00, 3474.22it/s]\n"
     ]
    },
    {
     "name": "stdout",
     "output_type": "stream",
     "text": [
      "Processing ./db/objects/L10_V022\n"
     ]
    },
    {
     "name": "stderr",
     "output_type": "stream",
     "text": [
      "Extracting detected objects ...: 100%|██████████| 327/327 [00:00<00:00, 3706.70it/s]\n"
     ]
    },
    {
     "name": "stdout",
     "output_type": "stream",
     "text": [
      "Processing ./db/objects/L10_V023\n"
     ]
    },
    {
     "name": "stderr",
     "output_type": "stream",
     "text": [
      "Extracting detected objects ...: 100%|██████████| 344/344 [00:00<00:00, 3704.80it/s]\n"
     ]
    },
    {
     "name": "stdout",
     "output_type": "stream",
     "text": [
      "Processing ./db/objects/L10_V024\n"
     ]
    },
    {
     "name": "stderr",
     "output_type": "stream",
     "text": [
      "Extracting detected objects ...: 100%|██████████| 413/413 [00:00<00:00, 4745.18it/s]\n"
     ]
    },
    {
     "name": "stdout",
     "output_type": "stream",
     "text": [
      "Processing ./db/objects/L10_V025\n"
     ]
    },
    {
     "name": "stderr",
     "output_type": "stream",
     "text": [
      "Extracting detected objects ...: 100%|██████████| 398/398 [00:00<00:00, 3570.99it/s]\n"
     ]
    },
    {
     "name": "stdout",
     "output_type": "stream",
     "text": [
      "Processing ./db/objects/L10_V026\n"
     ]
    },
    {
     "name": "stderr",
     "output_type": "stream",
     "text": [
      "Extracting detected objects ...: 100%|██████████| 319/319 [00:00<00:00, 3668.55it/s]\n"
     ]
    },
    {
     "name": "stdout",
     "output_type": "stream",
     "text": [
      "Processing ./db/objects/L10_V027\n"
     ]
    },
    {
     "name": "stderr",
     "output_type": "stream",
     "text": [
      "Extracting detected objects ...: 100%|██████████| 350/350 [00:00<00:00, 3975.54it/s]\n"
     ]
    },
    {
     "name": "stdout",
     "output_type": "stream",
     "text": [
      "Processing ./db/objects/L10_V028\n"
     ]
    },
    {
     "name": "stderr",
     "output_type": "stream",
     "text": [
      "Extracting detected objects ...: 100%|██████████| 329/329 [00:00<00:00, 3928.16it/s]\n"
     ]
    },
    {
     "name": "stdout",
     "output_type": "stream",
     "text": [
      "Processing ./db/objects/L10_V029\n"
     ]
    },
    {
     "name": "stderr",
     "output_type": "stream",
     "text": [
      "Extracting detected objects ...: 100%|██████████| 302/302 [00:00<00:00, 3203.75it/s]\n"
     ]
    },
    {
     "name": "stdout",
     "output_type": "stream",
     "text": [
      "Processing ./db/objects/L11_V001\n"
     ]
    },
    {
     "name": "stderr",
     "output_type": "stream",
     "text": [
      "Extracting detected objects ...: 100%|██████████| 309/309 [00:00<00:00, 3901.62it/s]\n"
     ]
    },
    {
     "name": "stdout",
     "output_type": "stream",
     "text": [
      "Processing ./db/objects/L11_V002\n"
     ]
    },
    {
     "name": "stderr",
     "output_type": "stream",
     "text": [
      "Extracting detected objects ...: 100%|██████████| 352/352 [00:00<00:00, 3767.65it/s]\n"
     ]
    },
    {
     "name": "stdout",
     "output_type": "stream",
     "text": [
      "Processing ./db/objects/L11_V003\n"
     ]
    },
    {
     "name": "stderr",
     "output_type": "stream",
     "text": [
      "Extracting detected objects ...: 100%|██████████| 301/301 [00:00<00:00, 3792.45it/s]\n"
     ]
    },
    {
     "name": "stdout",
     "output_type": "stream",
     "text": [
      "Processing ./db/objects/L11_V004\n"
     ]
    },
    {
     "name": "stderr",
     "output_type": "stream",
     "text": [
      "Extracting detected objects ...: 100%|██████████| 252/252 [00:00<00:00, 3254.94it/s]\n"
     ]
    },
    {
     "name": "stdout",
     "output_type": "stream",
     "text": [
      "Processing ./db/objects/L11_V005\n"
     ]
    },
    {
     "name": "stderr",
     "output_type": "stream",
     "text": [
      "Extracting detected objects ...: 100%|██████████| 297/297 [00:00<00:00, 3202.69it/s]\n"
     ]
    },
    {
     "name": "stdout",
     "output_type": "stream",
     "text": [
      "Processing ./db/objects/L11_V006\n"
     ]
    },
    {
     "name": "stderr",
     "output_type": "stream",
     "text": [
      "Extracting detected objects ...: 100%|██████████| 283/283 [00:00<00:00, 2432.43it/s]\n"
     ]
    },
    {
     "name": "stdout",
     "output_type": "stream",
     "text": [
      "Processing ./db/objects/L11_V007\n"
     ]
    },
    {
     "name": "stderr",
     "output_type": "stream",
     "text": [
      "Extracting detected objects ...: 100%|██████████| 389/389 [00:00<00:00, 3315.68it/s]\n"
     ]
    },
    {
     "name": "stdout",
     "output_type": "stream",
     "text": [
      "Processing ./db/objects/L11_V008\n"
     ]
    },
    {
     "name": "stderr",
     "output_type": "stream",
     "text": [
      "Extracting detected objects ...: 100%|██████████| 291/291 [00:00<00:00, 3436.05it/s]\n"
     ]
    },
    {
     "name": "stdout",
     "output_type": "stream",
     "text": [
      "Processing ./db/objects/L11_V009\n"
     ]
    },
    {
     "name": "stderr",
     "output_type": "stream",
     "text": [
      "Extracting detected objects ...: 100%|██████████| 332/332 [00:00<00:00, 3755.22it/s]\n"
     ]
    },
    {
     "name": "stdout",
     "output_type": "stream",
     "text": [
      "Processing ./db/objects/L11_V010\n"
     ]
    },
    {
     "name": "stderr",
     "output_type": "stream",
     "text": [
      "Extracting detected objects ...: 100%|██████████| 254/254 [00:00<00:00, 3530.14it/s]\n"
     ]
    },
    {
     "name": "stdout",
     "output_type": "stream",
     "text": [
      "Processing ./db/objects/L11_V011\n"
     ]
    },
    {
     "name": "stderr",
     "output_type": "stream",
     "text": [
      "Extracting detected objects ...: 100%|██████████| 248/248 [00:00<00:00, 4454.92it/s]\n"
     ]
    },
    {
     "name": "stdout",
     "output_type": "stream",
     "text": [
      "Processing ./db/objects/L11_V012\n"
     ]
    },
    {
     "name": "stderr",
     "output_type": "stream",
     "text": [
      "Extracting detected objects ...: 100%|██████████| 279/279 [00:00<00:00, 4007.38it/s]\n"
     ]
    },
    {
     "name": "stdout",
     "output_type": "stream",
     "text": [
      "Processing ./db/objects/L11_V013\n"
     ]
    },
    {
     "name": "stderr",
     "output_type": "stream",
     "text": [
      "Extracting detected objects ...: 100%|██████████| 293/293 [00:00<00:00, 3435.37it/s]\n"
     ]
    },
    {
     "name": "stdout",
     "output_type": "stream",
     "text": [
      "Processing ./db/objects/L11_V014\n"
     ]
    },
    {
     "name": "stderr",
     "output_type": "stream",
     "text": [
      "Extracting detected objects ...: 100%|██████████| 251/251 [00:00<00:00, 3811.20it/s]\n"
     ]
    },
    {
     "name": "stdout",
     "output_type": "stream",
     "text": [
      "Processing ./db/objects/L11_V015\n"
     ]
    },
    {
     "name": "stderr",
     "output_type": "stream",
     "text": [
      "Extracting detected objects ...: 100%|██████████| 267/267 [00:00<00:00, 3590.56it/s]\n"
     ]
    },
    {
     "name": "stdout",
     "output_type": "stream",
     "text": [
      "Processing ./db/objects/L11_V016\n"
     ]
    },
    {
     "name": "stderr",
     "output_type": "stream",
     "text": [
      "Extracting detected objects ...: 100%|██████████| 297/297 [00:00<00:00, 4099.63it/s]\n"
     ]
    },
    {
     "name": "stdout",
     "output_type": "stream",
     "text": [
      "Processing ./db/objects/L11_V017\n"
     ]
    },
    {
     "name": "stderr",
     "output_type": "stream",
     "text": [
      "Extracting detected objects ...: 100%|██████████| 277/277 [00:00<00:00, 3672.09it/s]\n"
     ]
    },
    {
     "name": "stdout",
     "output_type": "stream",
     "text": [
      "Processing ./db/objects/L11_V018\n"
     ]
    },
    {
     "name": "stderr",
     "output_type": "stream",
     "text": [
      "Extracting detected objects ...: 100%|██████████| 322/322 [00:00<00:00, 3487.37it/s]\n"
     ]
    },
    {
     "name": "stdout",
     "output_type": "stream",
     "text": [
      "Processing ./db/objects/L11_V019\n"
     ]
    },
    {
     "name": "stderr",
     "output_type": "stream",
     "text": [
      "Extracting detected objects ...: 100%|██████████| 250/250 [00:00<00:00, 3610.23it/s]\n"
     ]
    },
    {
     "name": "stdout",
     "output_type": "stream",
     "text": [
      "Processing ./db/objects/L11_V020\n"
     ]
    },
    {
     "name": "stderr",
     "output_type": "stream",
     "text": [
      "Extracting detected objects ...: 100%|██████████| 347/347 [00:00<00:00, 4091.47it/s]\n"
     ]
    },
    {
     "name": "stdout",
     "output_type": "stream",
     "text": [
      "Processing ./db/objects/L11_V021\n"
     ]
    },
    {
     "name": "stderr",
     "output_type": "stream",
     "text": [
      "Extracting detected objects ...: 100%|██████████| 281/281 [00:00<00:00, 3739.77it/s]\n"
     ]
    },
    {
     "name": "stdout",
     "output_type": "stream",
     "text": [
      "Processing ./db/objects/L11_V022\n"
     ]
    },
    {
     "name": "stderr",
     "output_type": "stream",
     "text": [
      "Extracting detected objects ...: 100%|██████████| 263/263 [00:00<00:00, 3089.83it/s]\n"
     ]
    },
    {
     "name": "stdout",
     "output_type": "stream",
     "text": [
      "Processing ./db/objects/L11_V023\n"
     ]
    },
    {
     "name": "stderr",
     "output_type": "stream",
     "text": [
      "Extracting detected objects ...: 100%|██████████| 311/311 [00:00<00:00, 3792.46it/s]\n"
     ]
    },
    {
     "name": "stdout",
     "output_type": "stream",
     "text": [
      "Processing ./db/objects/L11_V024\n"
     ]
    },
    {
     "name": "stderr",
     "output_type": "stream",
     "text": [
      "Extracting detected objects ...: 100%|██████████| 299/299 [00:00<00:00, 3711.73it/s]\n"
     ]
    },
    {
     "name": "stdout",
     "output_type": "stream",
     "text": [
      "Processing ./db/objects/L11_V025\n"
     ]
    },
    {
     "name": "stderr",
     "output_type": "stream",
     "text": [
      "Extracting detected objects ...: 100%|██████████| 265/265 [00:00<00:00, 4091.25it/s]\n"
     ]
    },
    {
     "name": "stdout",
     "output_type": "stream",
     "text": [
      "Processing ./db/objects/L11_V026\n"
     ]
    },
    {
     "name": "stderr",
     "output_type": "stream",
     "text": [
      "Extracting detected objects ...: 100%|██████████| 313/313 [00:00<00:00, 3607.24it/s]\n"
     ]
    },
    {
     "name": "stdout",
     "output_type": "stream",
     "text": [
      "Processing ./db/objects/L11_V027\n"
     ]
    },
    {
     "name": "stderr",
     "output_type": "stream",
     "text": [
      "Extracting detected objects ...: 100%|██████████| 291/291 [00:00<00:00, 3548.07it/s]\n"
     ]
    },
    {
     "name": "stdout",
     "output_type": "stream",
     "text": [
      "Processing ./db/objects/L11_V028\n"
     ]
    },
    {
     "name": "stderr",
     "output_type": "stream",
     "text": [
      "Extracting detected objects ...: 100%|██████████| 334/334 [00:00<00:00, 3695.36it/s]\n"
     ]
    },
    {
     "name": "stdout",
     "output_type": "stream",
     "text": [
      "Processing ./db/objects/L11_V029\n"
     ]
    },
    {
     "name": "stderr",
     "output_type": "stream",
     "text": [
      "Extracting detected objects ...: 100%|██████████| 305/305 [00:00<00:00, 3692.19it/s]\n"
     ]
    },
    {
     "name": "stdout",
     "output_type": "stream",
     "text": [
      "Processing ./db/objects/L11_V030\n"
     ]
    },
    {
     "name": "stderr",
     "output_type": "stream",
     "text": [
      "Extracting detected objects ...: 100%|██████████| 271/271 [00:00<00:00, 3480.60it/s]\n"
     ]
    },
    {
     "name": "stdout",
     "output_type": "stream",
     "text": [
      "Processing ./db/objects/L12_V001\n"
     ]
    },
    {
     "name": "stderr",
     "output_type": "stream",
     "text": [
      "Extracting detected objects ...: 100%|██████████| 349/349 [00:00<00:00, 3540.01it/s]\n"
     ]
    },
    {
     "name": "stdout",
     "output_type": "stream",
     "text": [
      "Processing ./db/objects/L12_V002\n"
     ]
    },
    {
     "name": "stderr",
     "output_type": "stream",
     "text": [
      "Extracting detected objects ...: 100%|██████████| 259/259 [00:00<00:00, 3318.13it/s]\n"
     ]
    },
    {
     "name": "stdout",
     "output_type": "stream",
     "text": [
      "Processing ./db/objects/L12_V003\n"
     ]
    },
    {
     "name": "stderr",
     "output_type": "stream",
     "text": [
      "Extracting detected objects ...: 100%|██████████| 407/407 [00:00<00:00, 3061.41it/s]\n"
     ]
    },
    {
     "name": "stdout",
     "output_type": "stream",
     "text": [
      "Processing ./db/objects/L12_V004\n"
     ]
    },
    {
     "name": "stderr",
     "output_type": "stream",
     "text": [
      "Extracting detected objects ...: 100%|██████████| 332/332 [00:00<00:00, 3729.11it/s]\n"
     ]
    },
    {
     "name": "stdout",
     "output_type": "stream",
     "text": [
      "Processing ./db/objects/L12_V005\n"
     ]
    },
    {
     "name": "stderr",
     "output_type": "stream",
     "text": [
      "Extracting detected objects ...: 100%|██████████| 350/350 [00:00<00:00, 3146.37it/s]\n"
     ]
    },
    {
     "name": "stdout",
     "output_type": "stream",
     "text": [
      "Processing ./db/objects/L12_V006\n"
     ]
    },
    {
     "name": "stderr",
     "output_type": "stream",
     "text": [
      "Extracting detected objects ...: 100%|██████████| 428/428 [00:00<00:00, 4528.32it/s]\n"
     ]
    },
    {
     "name": "stdout",
     "output_type": "stream",
     "text": [
      "Processing ./db/objects/L12_V007\n"
     ]
    },
    {
     "name": "stderr",
     "output_type": "stream",
     "text": [
      "Extracting detected objects ...: 100%|██████████| 301/301 [00:00<00:00, 3505.18it/s]\n"
     ]
    },
    {
     "name": "stdout",
     "output_type": "stream",
     "text": [
      "Processing ./db/objects/L12_V008\n"
     ]
    },
    {
     "name": "stderr",
     "output_type": "stream",
     "text": [
      "Extracting detected objects ...: 100%|██████████| 295/295 [00:00<00:00, 3811.98it/s]\n"
     ]
    },
    {
     "name": "stdout",
     "output_type": "stream",
     "text": [
      "Processing ./db/objects/L12_V009\n"
     ]
    },
    {
     "name": "stderr",
     "output_type": "stream",
     "text": [
      "Extracting detected objects ...: 100%|██████████| 337/337 [00:00<00:00, 3431.89it/s]\n"
     ]
    },
    {
     "name": "stdout",
     "output_type": "stream",
     "text": [
      "Processing ./db/objects/L12_V010\n"
     ]
    },
    {
     "name": "stderr",
     "output_type": "stream",
     "text": [
      "Extracting detected objects ...: 100%|██████████| 300/300 [00:00<00:00, 4270.56it/s]\n"
     ]
    },
    {
     "name": "stdout",
     "output_type": "stream",
     "text": [
      "Processing ./db/objects/L12_V011\n"
     ]
    },
    {
     "name": "stderr",
     "output_type": "stream",
     "text": [
      "Extracting detected objects ...: 100%|██████████| 384/384 [00:00<00:00, 3927.42it/s]\n"
     ]
    },
    {
     "name": "stdout",
     "output_type": "stream",
     "text": [
      "Processing ./db/objects/L12_V012\n"
     ]
    },
    {
     "name": "stderr",
     "output_type": "stream",
     "text": [
      "Extracting detected objects ...: 100%|██████████| 284/284 [00:00<00:00, 3661.84it/s]\n"
     ]
    },
    {
     "name": "stdout",
     "output_type": "stream",
     "text": [
      "Processing ./db/objects/L12_V013\n"
     ]
    },
    {
     "name": "stderr",
     "output_type": "stream",
     "text": [
      "Extracting detected objects ...: 100%|██████████| 282/282 [00:00<00:00, 3274.35it/s]\n"
     ]
    },
    {
     "name": "stdout",
     "output_type": "stream",
     "text": [
      "Processing ./db/objects/L12_V014\n"
     ]
    },
    {
     "name": "stderr",
     "output_type": "stream",
     "text": [
      "Extracting detected objects ...: 100%|██████████| 329/329 [00:00<00:00, 3426.55it/s]\n"
     ]
    },
    {
     "name": "stdout",
     "output_type": "stream",
     "text": [
      "Processing ./db/objects/L12_V015\n"
     ]
    },
    {
     "name": "stderr",
     "output_type": "stream",
     "text": [
      "Extracting detected objects ...: 100%|██████████| 306/306 [00:00<00:00, 3202.01it/s]\n"
     ]
    },
    {
     "name": "stdout",
     "output_type": "stream",
     "text": [
      "Processing ./db/objects/L12_V016\n"
     ]
    },
    {
     "name": "stderr",
     "output_type": "stream",
     "text": [
      "Extracting detected objects ...: 100%|██████████| 304/304 [00:00<00:00, 3800.04it/s]\n"
     ]
    },
    {
     "name": "stdout",
     "output_type": "stream",
     "text": [
      "Processing ./db/objects/L12_V017\n"
     ]
    },
    {
     "name": "stderr",
     "output_type": "stream",
     "text": [
      "Extracting detected objects ...: 100%|██████████| 304/304 [00:00<00:00, 3694.00it/s]\n"
     ]
    },
    {
     "name": "stdout",
     "output_type": "stream",
     "text": [
      "Processing ./db/objects/L12_V018\n"
     ]
    },
    {
     "name": "stderr",
     "output_type": "stream",
     "text": [
      "Extracting detected objects ...: 100%|██████████| 460/460 [00:00<00:00, 3989.59it/s]\n"
     ]
    },
    {
     "name": "stdout",
     "output_type": "stream",
     "text": [
      "Processing ./db/objects/L12_V019\n"
     ]
    },
    {
     "name": "stderr",
     "output_type": "stream",
     "text": [
      "Extracting detected objects ...: 100%|██████████| 292/292 [00:00<00:00, 3558.55it/s]\n"
     ]
    },
    {
     "name": "stdout",
     "output_type": "stream",
     "text": [
      "Processing ./db/objects/L12_V020\n"
     ]
    },
    {
     "name": "stderr",
     "output_type": "stream",
     "text": [
      "Extracting detected objects ...: 100%|██████████| 282/282 [00:00<00:00, 3659.46it/s]\n"
     ]
    },
    {
     "name": "stdout",
     "output_type": "stream",
     "text": [
      "Processing ./db/objects/L12_V021\n"
     ]
    },
    {
     "name": "stderr",
     "output_type": "stream",
     "text": [
      "Extracting detected objects ...: 100%|██████████| 334/334 [00:00<00:00, 3370.54it/s]\n"
     ]
    },
    {
     "name": "stdout",
     "output_type": "stream",
     "text": [
      "Processing ./db/objects/L12_V022\n"
     ]
    },
    {
     "name": "stderr",
     "output_type": "stream",
     "text": [
      "Extracting detected objects ...: 100%|██████████| 322/322 [00:00<00:00, 3557.28it/s]\n"
     ]
    },
    {
     "name": "stdout",
     "output_type": "stream",
     "text": [
      "Processing ./db/objects/L12_V023\n"
     ]
    },
    {
     "name": "stderr",
     "output_type": "stream",
     "text": [
      "Extracting detected objects ...: 100%|██████████| 272/272 [00:00<00:00, 3984.95it/s]\n"
     ]
    },
    {
     "name": "stdout",
     "output_type": "stream",
     "text": [
      "Processing ./db/objects/L12_V024\n"
     ]
    },
    {
     "name": "stderr",
     "output_type": "stream",
     "text": [
      "Extracting detected objects ...: 100%|██████████| 282/282 [00:00<00:00, 3091.59it/s]\n"
     ]
    },
    {
     "name": "stdout",
     "output_type": "stream",
     "text": [
      "Processing ./db/objects/L12_V025\n"
     ]
    },
    {
     "name": "stderr",
     "output_type": "stream",
     "text": [
      "Extracting detected objects ...: 100%|██████████| 304/304 [00:00<00:00, 3385.69it/s]\n"
     ]
    },
    {
     "name": "stdout",
     "output_type": "stream",
     "text": [
      "Processing ./db/objects/L12_V026\n"
     ]
    },
    {
     "name": "stderr",
     "output_type": "stream",
     "text": [
      "Extracting detected objects ...: 100%|██████████| 324/324 [00:00<00:00, 3350.10it/s]\n"
     ]
    },
    {
     "name": "stdout",
     "output_type": "stream",
     "text": [
      "Processing ./db/objects/L12_V027\n"
     ]
    },
    {
     "name": "stderr",
     "output_type": "stream",
     "text": [
      "Extracting detected objects ...: 100%|██████████| 311/311 [00:00<00:00, 4055.55it/s]\n"
     ]
    },
    {
     "name": "stdout",
     "output_type": "stream",
     "text": [
      "Processing ./db/objects/L12_V028\n"
     ]
    },
    {
     "name": "stderr",
     "output_type": "stream",
     "text": [
      "Extracting detected objects ...: 100%|██████████| 371/371 [00:00<00:00, 2754.55it/s]\n"
     ]
    },
    {
     "name": "stdout",
     "output_type": "stream",
     "text": [
      "Processing ./db/objects/L12_V029\n"
     ]
    },
    {
     "name": "stderr",
     "output_type": "stream",
     "text": [
      "Extracting detected objects ...: 100%|██████████| 307/307 [00:00<00:00, 3615.95it/s]\n"
     ]
    },
    {
     "name": "stdout",
     "output_type": "stream",
     "text": [
      "Processing ./db/objects/L12_V030\n"
     ]
    },
    {
     "name": "stderr",
     "output_type": "stream",
     "text": [
      "Extracting detected objects ...: 100%|██████████| 317/317 [00:00<00:00, 3737.73it/s]\n"
     ]
    }
   ],
   "source": [
    "data_dict = {\n",
    "    \"filename\": [], \n",
    "    \"objects\": []\n",
    "}\n",
    "\n",
    "for cur_dir in sorted(os.listdir(dataset_dir)): \n",
    "    data_dir = os.path.join(dataset_dir, cur_dir)\n",
    "    print(f\"Processing {data_dir}\")\n",
    "    for file_ in tqdm(glob(os.path.join(data_dir, \"*.json\")), desc=\"Extracting detected objects ...\"): \n",
    "        # Filename \n",
    "        data_dict[\"filename\"].append(file_)\n",
    "\n",
    "        # Reading JSON object\n",
    "        json_obj = json_read(file_)\n",
    "        data_dict[\"objects\"].append(json_obj[\"detection_class_entities\"])"
   ]
  },
  {
   "cell_type": "code",
   "execution_count": 29,
   "metadata": {},
   "outputs": [
    {
     "data": {
      "text/plain": [
       "106589"
      ]
     },
     "execution_count": 29,
     "metadata": {},
     "output_type": "execute_result"
    }
   ],
   "source": [
    "len(data_dict['filename'])"
   ]
  },
  {
   "cell_type": "code",
   "execution_count": 30,
   "metadata": {},
   "outputs": [
    {
     "data": {
      "text/plain": [
       "106589"
      ]
     },
     "execution_count": 30,
     "metadata": {},
     "output_type": "execute_result"
    }
   ],
   "source": [
    "len(data_dict['filename'])"
   ]
  },
  {
   "cell_type": "code",
   "execution_count": 31,
   "metadata": {},
   "outputs": [],
   "source": [
    "objects = {}\n",
    "\n",
    "for row in data_dict['objects']:\n",
    "    for obj in row:\n",
    "        if obj not in objects:\n",
    "            objects[obj] = 1\n",
    "        else:\n",
    "            objects[obj] += 1"
   ]
  },
  {
   "cell_type": "code",
   "execution_count": 32,
   "metadata": {},
   "outputs": [
    {
     "name": "stdout",
     "output_type": "stream",
     "text": [
      "Total number of objects: 580\n"
     ]
    },
    {
     "data": {
      "text/plain": [
       "dict_keys(['Human face', 'Tree', 'Tie', 'Man', 'Shirt', 'Clothing', 'Boy', 'Person', 'Suit', 'Building', 'House', 'Human hair', 'Window', 'Plant', 'Human nose', 'Human eye', 'Woman', 'Human head', 'Human arm', 'Human ear', 'Fashion accessory', 'Human body', 'Poster', 'Mammal', 'Girl', 'Footwear', 'Traffic sign', 'Street light', 'Car', 'Land vehicle', 'Vehicle', 'Microphone', 'Flag', 'Curtain', 'Boat', 'Human mouth', 'Doll', 'Watercraft', 'Dress', 'Paddle', 'Tent', 'Canoe', 'Sports equipment', 'Wheel', 'Motorcycle', 'Truck', 'Tire', 'Palm tree', 'Bicycle wheel', 'Airplane', 'Flower', 'Umbrella', 'Toy', 'Table', 'Lamp', 'Aircraft', 'Book', 'Furniture', 'Office supplies', 'Balloon', 'Stairs', 'Medical equipment', 'Auto part', 'Box', 'Musical instrument', 'Coat', 'Billboard', 'Jacket', 'Whiteboard', 'Television', 'Picture frame', 'Door', 'Mobile phone', 'Office building', 'Computer monitor', 'Sports uniform', 'Trousers', 'Jeans', 'Human leg', 'Envelope', 'Chair', 'Hat', 'Human hand', 'Shorts', 'Helmet', 'Ring binder', 'Refrigerator', 'Shelf', 'Porch', 'Houseplant', 'Skyscraper', 'Tower', 'Desk', 'Glasses', 'Swimwear', 'Dairy', 'Bowl', 'Tableware', 'Food', 'Drink', 'Milk', 'Mixing bowl', 'Plate', 'Juice', 'Skull', 'Flowerpot', 'Kitchen utensil', 'Bottle', 'Vase', 'Kitchen appliance', 'Cream', 'Wok', 'Platter', 'Candle', 'Animal', 'Dessert', 'Frying pan', 'Spoon', 'Whisk', 'Cocktail', 'Swimming pool', 'Scoreboard', 'Tablet computer', 'Snack', 'Laptop', 'Bowling equipment', 'Helicopter', 'Surfboard', 'Sculpture', 'Cosmetics', 'Carnivore', 'Van', 'Bird', 'Skateboard', 'Skirt', 'Train', 'Toilet', 'Home appliance', 'Sink', 'Bathroom accessory', 'Bidet', 'Cabinetry', 'Bathtub', 'Plumbing fixture', 'Human beard', 'Tool', 'Vehicle registration plate', 'Rocket', 'Missile', 'Bus', 'Penguin', 'Marine mammal', 'Harbor seal', 'Popcorn', 'Fast food', 'Wine', 'Cucumber', 'Vegetable', 'Asparagus', 'Toothbrush', 'Snowboard', 'Fruit', 'Baked goods', 'Candy', 'Tomato', 'Orange', 'Egg', 'Ball', 'Lemon', 'Grapefruit', 'Mirror', 'Grape', 'Cart', 'Fish', 'Dolphin', 'Whale', 'Swan', 'Fountain', 'Fireplace', 'Bench', 'Nail', 'Door handle', 'Rose', 'Stop sign', 'Barge', 'Duck', 'Ski', 'Lifejacket', 'Hiking equipment', 'Guitar', 'Coffee cup', 'Saucer', 'Fork', 'Mug', 'Suitcase', 'Christmas tree', 'Billiard table', 'Handbag', 'Glove', 'Human foot', 'Kite', 'Lavender', 'Maple', 'Ambulance', 'Swim cap', 'Sun hat', 'Bicycle', 'Drum', 'Beer', 'Ice cream', 'Drawer', 'Nightstand', 'Window blind', 'Goggles', 'Sunglasses', 'Waste container', 'Sunflower', 'Cowboy hat', 'Lantern', 'Cat', 'Dog', 'Camera', 'Bed', 'Plastic bag', 'Seafood', 'Cheese', 'Couch', 'Sofa bed', 'Pillow', 'Traffic light', 'Headphones', 'Light bulb', 'Baseball bat', 'Racket', 'Weapon', 'Jet ski', 'Scarf', 'Panda', 'Cattle', 'Horse', 'Gondola', 'Pen', 'Lipstick', 'Taxi', 'Boot', 'Sandal', 'Sock', 'Bat', 'Baseball glove', 'High heels', 'Fedora', 'Tennis racket', 'Countertop', 'Musical keyboard', 'Castle', 'Snowman', 'Cake', 'Bicycle helmet', 'Earrings', 'Coffee table', 'Cupboard', 'Luggage and bags', 'Backpack', 'Dog bed', 'Computer keyboard', 'Digital clock', 'Oven', 'Shark', 'Insect', 'Invertebrate', 'Mushroom', 'Snail', 'Table tennis racket', 'Chopsticks', 'Infant bed', 'Pencil case', 'Rifle', 'Shotgun', 'Cello', 'Cantaloupe', 'Convenience store', 'Bookcase', 'Wine rack', 'Spice rack', 'Closet', 'Pumpkin', 'Ladder', 'Marine invertebrates', 'Parachute', 'Shellfish', 'Oyster', 'Dice', 'Sword', 'Seat belt', 'Accordion', 'Piano', 'Roller skates', 'Cat furniture', 'Bronze sculpture', 'Necklace', 'Bread', 'Reptile', 'Sea lion', 'Lizard', 'Dinosaur', 'Football', 'Crown', 'Tiara', 'Violin', 'Tin can', 'Muffin', 'Lily', 'Coffeemaker', 'Segway', 'Golf cart', 'Wheelchair', 'Stationary bicycle', 'Wardrobe', 'Honeycomb', 'Jellyfish', 'Barrel', 'Goldfish', 'Cassette deck', 'Microwave oven', 'Stretcher', 'Volleyball', 'Tank', 'Rays and skates', 'Chest of drawers', 'Football helmet', 'Bust', 'Watch', 'Banjo', 'Wine glass', 'Broccoli', 'Wall clock', 'Clock', 'Lighthouse', 'Shower', 'Tap', 'Pastry', 'Limousine', 'Chicken', 'Rabbit', 'Owl', 'Wood-burning stove', 'Heater', 'Salad', 'Kitchen & dining room table', 'Drinking straw', 'Stool', 'Flying disc', 'Adhesive tape', 'Mechanical fan', 'Bow and arrow', 'Butterfly', 'Apple', 'Banana', 'Tart', 'Cake stand', 'Pineapple', 'Scissors', 'Studio couch', 'Filing cabinet', 'Power plugs and sockets', 'Tiger', 'Lynx', 'Cookie', 'Treadmill', 'Cannon', 'Deer', 'Zebra', 'Otter', 'Lion', 'Giraffe', 'Leopard', 'Hippopotamus', 'Bull', 'Elephant', 'Rhinoceros', 'Handgun', 'Flashlight', 'Drill', 'Ratchet', 'Hand dryer', 'Towel', 'Loveseat', 'Jug', 'Pitcher', 'Teapot', 'Kettle', 'Cricket ball', 'Squash', 'Carrot', 'Tree house', 'Personal care', 'Blender', 'Goose', 'Squid', 'Sheep', 'Polar bear', 'Goat', 'Alpaca', 'Bear', 'Monkey', 'Punching bag', 'Organ', 'Training bench', 'Frog', 'Tortoise', 'Telephone', 'Washing machine', 'Snowmobile', 'Serving tray', 'Belt', 'Scale', 'Pasta', 'Sushi', 'Zucchini', 'Potato', 'Taco', 'Picnic basket', 'Snake', 'Ceiling fan', 'Ipod', 'Falcon', 'Turkey', 'Crocodile', 'Pig', 'Eagle', 'Woodpecker', 'Moths and butterflies', 'Mango', 'Binoculars', 'Stapler', 'Sewing machine', 'Dumbbell', 'Fire hydrant', 'Slow cooker', 'Mixer', 'Computer mouse', 'Gas stove', 'Food processor', 'Sombrero', 'Bell pepper', 'Peach', 'Pomegranate', 'Radish', 'Pear', 'Tripod', 'Calculator', 'Common fig', 'Briefcase', 'Light switch', 'Dagger', 'Knife', 'Kitchen knife', 'Tennis ball', 'Bee', 'Ant', 'Coconut', 'Printer', 'Miniskirt', 'Antelope', 'Shrimp', 'Beetle', 'Winter melon', 'Parking meter', 'Blue jay', 'Jacuzzi', 'Corded phone', 'Teddy bear', 'Parrot', 'Pizza', 'Coin', 'Canary', 'Watermelon', 'Mouse', 'Strawberry', 'Sea turtle', 'Turtle', 'Spatula', 'Cabbage', 'Sandwich', 'Mule', 'Hamster', 'Squirrel', 'Fox', 'Kangaroo', 'Starfish', 'Brown bear', 'Harpsichord', 'Harp', 'Submarine', 'Willow', 'Screwdriver', 'Trumpet', 'Alarm clock', 'Coffee', 'Face powder', 'Porcupine', 'Hedgehog', 'Syringe', 'Camel', 'Cutting board', 'Hammer', 'Axe', 'Ruler', 'Perfume', 'Bathroom cabinet', 'Tea', 'Ostrich', 'Toilet paper', 'Caterpillar', 'Spider', 'Brassiere', 'Crab', 'Seahorse', 'Ladybug', 'Tick', 'Dishwasher', 'Beehive', 'Chainsaw', 'Worm', 'Snowplow', 'Raven', 'Paper towel', 'Soap dispenser', 'Salt and pepper shakers', 'Dragonfly', 'Sparrow', 'Waffle', 'Centipede', 'Scorpion', 'Isopod', 'Unicycle', 'Red panda', 'Chisel', 'Trombone', 'Raccoon', 'Rugby ball', 'Beaker', 'Hot dog', 'Pancake', 'Hamburger', 'Bagel', 'Doughnut', 'Submarine sandwich', 'Cocktail shaker', 'Burrito', 'Pretzel', 'Flute', 'Oboe', 'Horn', 'Wrench', 'Lobster', 'Remote control', 'Magpie', 'Stethoscope', 'Guacamole', 'Horizontal bar', 'Eraser', 'Toaster', 'Cheetah', 'Jaguar', 'Diaper', 'Saxophone', 'Croissant', 'Fax', 'Golf ball', 'Measuring cup', 'Koala', 'Armadillo', 'French fries', 'Hair dryer', 'Skunk', 'Artichoke', 'Waffle iron', 'Bottle opener', 'Humidifier'])"
      ]
     },
     "execution_count": 32,
     "metadata": {},
     "output_type": "execute_result"
    }
   ],
   "source": [
    "print(f\"Total number of objects: {len(objects.keys())}\")\n",
    "objects.keys()"
   ]
  },
  {
   "cell_type": "code",
   "execution_count": null,
   "metadata": {},
   "outputs": [],
   "source": [
    "detected_objects = ['Human face', 'Tree', 'Tie', 'Man', 'Shirt', 'Clothing', 'Boy', 'Person', 'Suit', 'Building', 'House', 'Human hair', 'Window', 'Plant', 'Human nose', 'Human eye', 'Woman', 'Human head', 'Human arm', 'Human ear', 'Fashion accessory', 'Human body', 'Poster', 'Mammal', 'Girl', 'Footwear', 'Traffic sign', 'Street light', 'Car', 'Land vehicle', 'Vehicle', 'Microphone', 'Flag', 'Curtain', 'Boat', 'Human mouth', 'Doll', 'Watercraft', 'Dress', 'Paddle', 'Tent', 'Canoe', 'Sports equipment', 'Wheel', 'Motorcycle', 'Truck', 'Tire', 'Palm tree', 'Bicycle wheel', 'Airplane', 'Flower', 'Umbrella', 'Toy', 'Table', 'Lamp', 'Aircraft', 'Book', 'Furniture', 'Office supplies', 'Balloon', 'Stairs', 'Medical equipment', 'Auto part', 'Box', 'Musical instrument', 'Coat', 'Billboard', 'Jacket', 'Whiteboard', 'Television', 'Picture frame', 'Door', 'Mobile phone', 'Office building', 'Computer monitor', 'Sports uniform', 'Trousers', 'Jeans', 'Human leg', 'Envelope', 'Chair', 'Hat', 'Human hand', 'Shorts', 'Helmet', 'Ring binder', 'Refrigerator', 'Shelf', 'Porch', 'Houseplant', 'Skyscraper', 'Tower', 'Desk', 'Glasses', 'Swimwear', 'Dairy', 'Bowl', 'Tableware', 'Food', 'Drink', 'Milk', 'Mixing bowl', 'Plate', 'Juice', 'Skull', 'Flowerpot', 'Kitchen utensil', 'Bottle', 'Vase', 'Kitchen appliance', 'Cream', 'Wok', 'Platter', 'Candle', 'Animal', 'Dessert', 'Frying pan', 'Spoon', 'Whisk', 'Cocktail', 'Swimming pool', 'Scoreboard', 'Tablet computer', 'Snack', 'Laptop', 'Bowling equipment', 'Helicopter', 'Surfboard', 'Sculpture', 'Cosmetics', 'Carnivore', 'Van', 'Bird', 'Skateboard', 'Skirt', 'Train', 'Toilet', 'Home appliance', 'Sink', 'Bathroom accessory', 'Bidet', 'Cabinetry', 'Bathtub', 'Plumbing fixture', 'Human beard', 'Tool', 'Vehicle registration plate', 'Rocket', 'Missile', 'Bus', 'Penguin', 'Marine mammal', 'Harbor seal', 'Popcorn', 'Fast food', 'Wine', 'Cucumber', 'Vegetable', 'Asparagus', 'Toothbrush', 'Snowboard', 'Fruit', 'Baked goods', 'Candy', 'Tomato', 'Orange', 'Egg', 'Ball', 'Lemon', 'Grapefruit', 'Mirror', 'Grape', 'Cart', 'Fish', 'Dolphin', 'Whale', 'Swan', 'Fountain', 'Fireplace', 'Bench', 'Nail', 'Door handle', 'Rose', 'Stop sign', 'Barge', 'Duck', 'Ski', 'Lifejacket', 'Hiking equipment', 'Guitar', 'Coffee cup', 'Saucer', 'Fork', 'Mug', 'Suitcase', 'Christmas tree', 'Billiard table', 'Handbag', 'Glove', 'Human foot', 'Kite', 'Lavender', 'Maple', 'Ambulance', 'Swim cap', 'Sun hat', 'Bicycle', 'Drum', 'Beer', 'Ice cream', 'Drawer', 'Nightstand', 'Window blind', 'Goggles', 'Sunglasses', 'Waste container', 'Sunflower', 'Cowboy hat', 'Lantern', 'Cat', 'Dog', 'Camera', 'Bed', 'Plastic bag', 'Seafood', 'Cheese', 'Couch', 'Sofa bed', 'Pillow', 'Traffic light', 'Headphones', 'Light bulb', 'Baseball bat', 'Racket', 'Weapon', 'Jet ski', 'Scarf', 'Panda', 'Cattle', 'Horse', 'Gondola', 'Pen', 'Lipstick', 'Taxi', 'Boot', 'Sandal', 'Sock', 'Bat', 'Baseball glove', 'High heels', 'Fedora', 'Tennis racket', 'Countertop', 'Musical keyboard', 'Castle', 'Snowman', 'Cake', 'Bicycle helmet', 'Earrings', 'Coffee table', 'Cupboard', 'Luggage and bags', 'Backpack', 'Dog bed', 'Computer keyboard', 'Digital clock', 'Oven', 'Shark', 'Insect', 'Invertebrate', 'Mushroom', 'Snail', 'Table tennis racket', 'Chopsticks', 'Infant bed', 'Pencil case', 'Rifle', 'Shotgun', 'Cello', 'Cantaloupe', 'Convenience store', 'Bookcase', 'Wine rack', 'Spice rack', 'Closet', 'Pumpkin', 'Ladder', 'Marine invertebrates', 'Parachute', 'Shellfish', 'Oyster', 'Dice', 'Sword', 'Seat belt', 'Accordion', 'Piano', 'Roller skates', 'Cat furniture', 'Bronze sculpture', 'Necklace', 'Bread', 'Reptile', 'Sea lion', 'Lizard', 'Dinosaur', 'Football', 'Crown', 'Tiara', 'Violin', 'Tin can', 'Muffin', 'Lily', 'Coffeemaker', 'Segway', 'Golf cart', 'Wheelchair', 'Stationary bicycle', 'Wardrobe', 'Honeycomb', 'Jellyfish', 'Barrel', 'Goldfish', 'Cassette deck', 'Microwave oven', 'Stretcher', 'Volleyball', 'Tank', 'Rays and skates', 'Chest of drawers', 'Football helmet', 'Bust', 'Watch', 'Banjo', 'Wine glass', 'Broccoli', 'Wall clock', 'Clock', 'Lighthouse', 'Shower', 'Tap', 'Pastry', 'Limousine', 'Chicken', 'Rabbit', 'Owl', 'Wood-burning stove', 'Heater', 'Salad', 'Kitchen & dining room table', 'Drinking straw', 'Stool', 'Flying disc', 'Adhesive tape', 'Mechanical fan', 'Bow and arrow', 'Butterfly', 'Apple', 'Banana', 'Tart', 'Cake stand', 'Pineapple', 'Scissors', 'Studio couch', 'Filing cabinet', 'Power plugs and sockets', 'Tiger', 'Lynx', 'Cookie', 'Treadmill', 'Cannon', 'Deer', 'Zebra', 'Otter', 'Lion', 'Giraffe', 'Leopard', 'Hippopotamus', 'Bull', 'Elephant', 'Rhinoceros', 'Handgun', 'Flashlight', 'Drill', 'Ratchet', 'Hand dryer', 'Towel', 'Loveseat', 'Jug', 'Pitcher', 'Teapot', 'Kettle', 'Cricket ball', 'Squash', 'Carrot', 'Tree house', 'Personal care', 'Blender', 'Goose', 'Squid', 'Sheep', 'Polar bear', 'Goat', 'Alpaca', 'Bear', 'Monkey', 'Punching bag', 'Organ', 'Training bench', 'Frog', 'Tortoise', 'Telephone', 'Washing machine', 'Snowmobile', 'Serving tray', 'Belt', 'Scale', 'Pasta', 'Sushi', 'Zucchini', 'Potato', 'Taco', 'Picnic basket', 'Snake', 'Ceiling fan', 'Ipod', 'Falcon', 'Turkey', 'Crocodile', 'Pig', 'Eagle', 'Woodpecker', 'Moths and butterflies', 'Mango', 'Binoculars', 'Stapler', 'Sewing machine', 'Dumbbell', 'Fire hydrant', 'Slow cooker', 'Mixer', 'Computer mouse', 'Gas stove', 'Food processor', 'Sombrero', 'Bell pepper', 'Peach', 'Pomegranate', 'Radish', 'Pear', 'Tripod', 'Calculator', 'Common fig', 'Briefcase', 'Light switch', 'Dagger', 'Knife', 'Kitchen knife', 'Tennis ball', 'Bee', 'Ant', 'Coconut', 'Printer', 'Miniskirt', 'Antelope', 'Shrimp', 'Beetle', 'Winter melon', 'Parking meter', 'Blue jay', 'Jacuzzi', 'Corded phone', 'Teddy bear', 'Parrot', 'Pizza', 'Coin', 'Canary', 'Watermelon', 'Mouse', 'Strawberry', 'Sea turtle', 'Turtle', 'Spatula', 'Cabbage', 'Sandwich', 'Mule', 'Hamster', 'Squirrel', 'Fox', 'Kangaroo', 'Starfish', 'Brown bear', 'Harpsichord', 'Harp', 'Submarine', 'Willow', 'Screwdriver', 'Trumpet', 'Alarm clock', 'Coffee', 'Face powder', 'Porcupine', 'Hedgehog', 'Syringe', 'Camel', 'Cutting board', 'Hammer', 'Axe', 'Ruler', 'Perfume', 'Bathroom cabinet', 'Tea', 'Ostrich', 'Toilet paper', 'Caterpillar', 'Spider', 'Brassiere', 'Crab', 'Seahorse', 'Ladybug', 'Tick', 'Dishwasher', 'Beehive', 'Chainsaw', 'Worm', 'Snowplow', 'Raven', 'Paper towel', 'Soap dispenser', 'Salt and pepper shakers', 'Dragonfly', 'Sparrow', 'Waffle', 'Centipede', 'Scorpion', 'Isopod', 'Unicycle', 'Red panda', 'Chisel', 'Trombone', 'Raccoon', 'Rugby ball', 'Beaker', 'Hot dog', 'Pancake', 'Hamburger', 'Bagel', 'Doughnut', 'Submarine sandwich', 'Cocktail shaker', 'Burrito', 'Pretzel', 'Flute', 'Oboe', 'Horn', 'Wrench', 'Lobster', 'Remote control', 'Magpie', 'Stethoscope', 'Guacamole', 'Horizontal bar', 'Eraser', 'Toaster', 'Cheetah', 'Jaguar', 'Diaper', 'Saxophone', 'Croissant', 'Fax', 'Golf ball', 'Measuring cup', 'Koala', 'Armadillo', 'French fries', 'Hair dryer', 'Skunk', 'Artichoke', 'Waffle iron', 'Bottle opener', 'Humidifier']"
   ]
  },
  {
   "cell_type": "code",
   "execution_count": null,
   "metadata": {},
   "outputs": [],
   "source": []
  },
  {
   "cell_type": "code",
   "execution_count": null,
   "metadata": {},
   "outputs": [],
   "source": []
  },
  {
   "cell_type": "code",
   "execution_count": 1,
   "metadata": {},
   "outputs": [
    {
     "data": {
      "text/plain": [
       "200"
      ]
     },
     "execution_count": 1,
     "metadata": {},
     "output_type": "execute_result"
    }
   ],
   "source": [
    "import requests\n",
    "\n",
    "\n",
    "requests.get(url=\"https://minhleduc.onrender.com/\").status_code"
   ]
  }
 ],
 "metadata": {
  "kernelspec": {
   "display_name": "octo",
   "language": "python",
   "name": "python3"
  },
  "language_info": {
   "codemirror_mode": {
    "name": "ipython",
    "version": 3
   },
   "file_extension": ".py",
   "mimetype": "text/x-python",
   "name": "python",
   "nbconvert_exporter": "python",
   "pygments_lexer": "ipython3",
   "version": "3.10.14"
  }
 },
 "nbformat": 4,
 "nbformat_minor": 2
}

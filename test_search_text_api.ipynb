{
 "cells": [
  {
   "cell_type": "code",
   "execution_count": 2,
   "metadata": {},
   "outputs": [],
   "source": [
    "import requests\n",
    "\n",
    "\n",
    "BASE_ENDPOINT = 'http://localhost:8000'\n",
    "\n",
    "ENDPOINTS = {\n",
    "    'POST': {\n",
    "        'search-text': f\"{BASE_ENDPOINT}/search\"\n",
    "    },\n",
    "    'GET': {\n",
    "        'get-quote': f\"{BASE_ENDPOINT}\",\n",
    "        'get-image': f\"{BASE_ENDPOINT}/search\"\n",
    "    }\n",
    "}"
   ]
  },
  {
   "cell_type": "code",
   "execution_count": 3,
   "metadata": {},
   "outputs": [
    {
     "name": "stdout",
     "output_type": "stream",
     "text": [
      "GET created successfully!\n",
      "\"You can't get to a place that you don't believe exists.\" - Unknown\n"
     ]
    }
   ],
   "source": [
    "QUOTE_URL = ENDPOINTS['GET']['get-quote']\n",
    "\n",
    "quote_res = requests.get(QUOTE_URL)\n",
    "\n",
    "# Check for successful response\n",
    "if quote_res.status_code == 200:  # 201 Created\n",
    "    print(\"GET created successfully!\")\n",
    "    print(quote_res.json())  # Print the response data (e.g., new post ID)\n",
    "else:\n",
    "    print(f\"Error creating GET: {quote_res.status_code}\")\n",
    "    print(quote_res.text)  # Print the error message"
   ]
  },
  {
   "cell_type": "code",
   "execution_count": 6,
   "metadata": {},
   "outputs": [
    {
     "name": "stdout",
     "output_type": "stream",
     "text": [
      "Error creating post: 200\n",
      "{\"scores\":[[0.42685627937316895,0.42605143785476685,0.41746342182159424,0.41608548164367676,0.4139440953731537,0.40618303418159485,0.4038386344909668,0.4033873379230499,0.40262484550476074,0.3977847099304199,0.39542096853256226,0.3946758210659027,0.3927478492259979,0.3897689878940582,0.3885999619960785,0.3852140009403229,0.3850365877151489,0.3836776316165924,0.3836343288421631,0.3822622001171112]],\"idx_image\":[86914,86915,158105,14428,14427,150908,154115,22608,112842,52,148974,141608,157777,119866,13922,119730,86903,9462,88359,123482],\"infos_query\":[\"L07_V022-07515.webp\",\"L07_V022-07519.webp\",\"L12_V029-09558.webp\",\"L02_V005-15858.webp\",\"L02_V005-15767.webp\",\"L12_V013-09352.webp\",\"L12_V020-08140.webp\",\"L02_V025-12414.webp\",\"L09_V017-25330.webp\",\"L01_V001-02905.webp\",\"L12_V009-16123.webp\",\"L11_V023-21833.webp\",\"L12_V028-16939.webp\",\"L10_V004-15494.webp\",\"L02_V004-14366.webp\",\"L10_V004-06584.webp\",\"L07_V022-06042.webp\",\"L01_V024-14394.webp\",\"L07_V025-24119.webp\",\"L10_V011-24095.webp\"],\"image_paths\":[\"L07_V022-07515.webp\",\"L07_V022-07519.webp\",\"L12_V029-09558.webp\",\"L02_V005-15858.webp\",\"L02_V005-15767.webp\",\"L12_V013-09352.webp\",\"L12_V020-08140.webp\",\"L02_V025-12414.webp\",\"L09_V017-25330.webp\",\"L01_V001-02905.webp\",\"L12_V009-16123.webp\",\"L11_V023-21833.webp\",\"L12_V028-16939.webp\",\"L10_V004-15494.webp\",\"L02_V004-14366.webp\",\"L10_V004-06584.webp\",\"L07_V022-06042.webp\",\"L01_V024-14394.webp\",\"L07_V025-24119.webp\",\"L10_V011-24095.webp\"]}\n"
     ]
    }
   ],
   "source": [
    "import json\n",
    "\n",
    "# Data to be sent in JSON format\n",
    "data = {\n",
    "    \"query\": \"Cảnh quay từ một chiếc camera trên một chiếc xe máy quay lại hành trình di chuyển  có một biển màu vàng chữ đỏ.\", \n",
    "    \"top_k\": 20\n",
    "}\n",
    "\n",
    "url = ENDPOINTS['POST']['search-text']\n",
    "# Send the POST request\n",
    "response = requests.post(url, \n",
    "                         json=json.dumps(data))\n",
    "\n",
    "# Check for successful response\n",
    "if response.status_code == 201:  # 201 Created\n",
    "    print(\"Post created successfully!\")\n",
    "    print(response.json())  # Print the response data (e.g., new post ID)\n",
    "else:\n",
    "    print(f\"Error creating post: {response.status_code}\")\n",
    "    print(response.text)  # Print the error message"
   ]
  },
  {
   "cell_type": "code",
   "execution_count": 64,
   "metadata": {},
   "outputs": [
    {
     "data": {
      "text/plain": [
       "'http://localhost:8000/search'"
      ]
     },
     "execution_count": 64,
     "metadata": {},
     "output_type": "execute_result"
    }
   ],
   "source": [
    "ENDPOINTS['GET']['get-image']"
   ]
  },
  {
   "cell_type": "code",
   "execution_count": 5,
   "metadata": {},
   "outputs": [
    {
     "name": "stdout",
     "output_type": "stream",
     "text": [
      "http://localhost:8000/search/L07_V022-07519.webp\n"
     ]
    },
    {
     "ename": "UnidentifiedImageError",
     "evalue": "cannot identify image file <_io.BytesIO object at 0x755f383e0860>",
     "output_type": "error",
     "traceback": [
      "\u001b[0;31m---------------------------------------------------------------------------\u001b[0m",
      "\u001b[0;31mUnidentifiedImageError\u001b[0m                    Traceback (most recent call last)",
      "Cell \u001b[0;32mIn[5], line 7\u001b[0m\n\u001b[1;32m      5\u001b[0m REQUEST_IMAGE_URL \u001b[38;5;241m=\u001b[39m \u001b[38;5;124mf\u001b[39m\u001b[38;5;124m\"\u001b[39m\u001b[38;5;132;01m{\u001b[39;00mENDPOINTS[\u001b[38;5;124m'\u001b[39m\u001b[38;5;124mGET\u001b[39m\u001b[38;5;124m'\u001b[39m][\u001b[38;5;124m'\u001b[39m\u001b[38;5;124mget-image\u001b[39m\u001b[38;5;124m'\u001b[39m]\u001b[38;5;132;01m}\u001b[39;00m\u001b[38;5;124m/\u001b[39m\u001b[38;5;132;01m{\u001b[39;00mfile_idx\u001b[38;5;132;01m}\u001b[39;00m\u001b[38;5;124m\"\u001b[39m\n\u001b[1;32m      6\u001b[0m \u001b[38;5;28mprint\u001b[39m(REQUEST_IMAGE_URL)\n\u001b[0;32m----> 7\u001b[0m img \u001b[38;5;241m=\u001b[39m \u001b[43mImage\u001b[49m\u001b[38;5;241;43m.\u001b[39;49m\u001b[43mopen\u001b[49m\u001b[43m(\u001b[49m\u001b[43mrequests\u001b[49m\u001b[38;5;241;43m.\u001b[39;49m\u001b[43mget\u001b[49m\u001b[43m(\u001b[49m\u001b[43mREQUEST_IMAGE_URL\u001b[49m\u001b[43m,\u001b[49m\u001b[43m \u001b[49m\u001b[43mstream\u001b[49m\u001b[38;5;241;43m=\u001b[39;49m\u001b[38;5;28;43;01mTrue\u001b[39;49;00m\u001b[43m)\u001b[49m\u001b[38;5;241;43m.\u001b[39;49m\u001b[43mraw\u001b[49m\u001b[43m)\u001b[49m\u001b[38;5;241m.\u001b[39mconvert(\u001b[38;5;124m'\u001b[39m\u001b[38;5;124mRGB\u001b[39m\u001b[38;5;124m'\u001b[39m)\n\u001b[1;32m      9\u001b[0m img\n",
      "File \u001b[0;32m~/anaconda3/envs/hcmc/lib/python3.10/site-packages/PIL/Image.py:3498\u001b[0m, in \u001b[0;36mopen\u001b[0;34m(fp, mode, formats)\u001b[0m\n\u001b[1;32m   3496\u001b[0m     warnings\u001b[38;5;241m.\u001b[39mwarn(message)\n\u001b[1;32m   3497\u001b[0m msg \u001b[38;5;241m=\u001b[39m \u001b[38;5;124m\"\u001b[39m\u001b[38;5;124mcannot identify image file \u001b[39m\u001b[38;5;132;01m%r\u001b[39;00m\u001b[38;5;124m\"\u001b[39m \u001b[38;5;241m%\u001b[39m (filename \u001b[38;5;28;01mif\u001b[39;00m filename \u001b[38;5;28;01melse\u001b[39;00m fp)\n\u001b[0;32m-> 3498\u001b[0m \u001b[38;5;28;01mraise\u001b[39;00m UnidentifiedImageError(msg)\n",
      "\u001b[0;31mUnidentifiedImageError\u001b[0m: cannot identify image file <_io.BytesIO object at 0x755f383e0860>"
     ]
    }
   ],
   "source": [
    "from PIL import Image\n",
    "\n",
    "\n",
    "file_idx = \"L07_V022-07519.webp\"\n",
    "REQUEST_IMAGE_URL = f\"{ENDPOINTS['GET']['get-image']}/{file_idx}\"\n",
    "print(REQUEST_IMAGE_URL)\n",
    "img = Image.open(requests.get(REQUEST_IMAGE_URL, stream=True).raw).convert('RGB')\n",
    "\n",
    "img"
   ]
  }
 ],
 "metadata": {
  "kernelspec": {
   "display_name": "octo",
   "language": "python",
   "name": "python3"
  },
  "language_info": {
   "codemirror_mode": {
    "name": "ipython",
    "version": 3
   },
   "file_extension": ".py",
   "mimetype": "text/x-python",
   "name": "python",
   "nbconvert_exporter": "python",
   "pygments_lexer": "ipython3",
   "version": "3.10.14"
  }
 },
 "nbformat": 4,
 "nbformat_minor": 2
}
